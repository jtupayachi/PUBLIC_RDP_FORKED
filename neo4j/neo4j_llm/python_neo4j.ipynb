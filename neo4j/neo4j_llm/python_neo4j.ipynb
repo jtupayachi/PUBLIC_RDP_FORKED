{
 "cells": [
  {
   "cell_type": "code",
   "execution_count": 18,
   "id": "68b6f570-55f7-4958-9a59-c066cb2218c9",
   "metadata": {},
   "outputs": [
    {
     "name": "stdout",
     "output_type": "stream",
     "text": [
      "hello, world, from node 171\n"
     ]
    }
   ],
   "source": [
    "from neo4j import GraphDatabase\n",
    "\n",
    "class HelloWorldExample:\n",
    "\n",
    "    def __init__(self, uri, user, password):\n",
    "        self.driver = GraphDatabase.driver(uri, auth=(user, password))\n",
    "\n",
    "    def close(self):\n",
    "        self.driver.close()\n",
    "\n",
    "    def print_greeting(self, message):\n",
    "        with self.driver.session() as session:\n",
    "            greeting = session.execute_write(self._create_and_return_greeting, message)\n",
    "            print(greeting)\n",
    "\n",
    "    @staticmethod\n",
    "    def _create_and_return_greeting(tx, message):\n",
    "        result = tx.run(\"CREATE (a:Greeting) \"\n",
    "                        \"SET a.message = $message \"\n",
    "                        \"RETURN a.message + ', from node ' + id(a)\", message=message)\n",
    "        return result.single()[0]\n",
    "\n",
    "\n",
    "if __name__ == \"__main__\":\n",
    "    # greeter = HelloWorldExample(\"neo4j://recoil.ise.utk.edu:7687\", \"neo4j\", \"recoilneo4j\") # works\n",
    "    greeter = HelloWorldExample(\"neo4j+s://recoil.ise.utk.edu:7687\", \"neo4j\", \"recoilneo4j\") # works\n",
    "    greeter = HelloWorldExample(\"bolt+s://recoil.ise.utk.edu:7687\", \"neo4j\", \"recoilneo4j\") # works\n",
    "    greeter.print_greeting(\"hello, world\")\n",
    "    greeter.close()"
   ]
  },
  {
   "cell_type": "code",
   "execution_count": null,
   "id": "7125ee98-8a46-49a4-ac6d-925c6317230d",
   "metadata": {},
   "outputs": [],
   "source": []
  },
  {
   "cell_type": "code",
   "execution_count": null,
   "id": "d4662a51-d465-486f-9667-95d28069684f",
   "metadata": {},
   "outputs": [],
   "source": []
  },
  {
   "cell_type": "code",
   "execution_count": null,
   "id": "53634605-4fae-4064-8999-f984e6fb7dfa",
   "metadata": {},
   "outputs": [],
   "source": []
  }
 ],
 "metadata": {
  "kernelspec": {
   "display_name": ".envgpu",
   "language": "python",
   "name": ".envgpu"
  },
  "language_info": {
   "codemirror_mode": {
    "name": "ipython",
    "version": 3
   },
   "file_extension": ".py",
   "mimetype": "text/x-python",
   "name": "python",
   "nbconvert_exporter": "python",
   "pygments_lexer": "ipython3",
   "version": "3.10.12"
  }
 },
 "nbformat": 4,
 "nbformat_minor": 5
}
