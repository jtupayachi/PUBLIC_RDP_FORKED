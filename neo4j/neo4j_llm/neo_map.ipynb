{
 "cells": [
  {
   "cell_type": "markdown",
   "id": "f7fbc0a3-a3aa-4f35-9b93-83e6a2cb2313",
   "metadata": {},
   "source": [
    "- https://medium.com/neo4j/visualizing-shortest-paths-with-neomap-0-4-0-and-the-neo4j-graph-data-science-plugin-18db92f680de\n",
    "- "
   ]
  },
  {
   "cell_type": "code",
   "execution_count": 1,
   "id": "a5676c81-92cd-4ee8-925a-1df682e8fb32",
   "metadata": {},
   "outputs": [],
   "source": [
    "import osmnx as ox\n"
   ]
  },
  {
   "cell_type": "code",
   "execution_count": 2,
   "id": "1bbba6e6-855e-43c2-9a56-0035f44a262b",
   "metadata": {},
   "outputs": [],
   "source": [
    "G = ox.graph_from_point((51.509934, -0.087333), dist=1500, network_type='all')\n",
    "\n",
    "ox.save_graphml(G, './london.graphml')"
   ]
  },
  {
   "cell_type": "code",
   "execution_count": 3,
   "id": "47831ed4-8344-4285-be3c-102e80e5aa71",
   "metadata": {},
   "outputs": [],
   "source": [
    "# https://medium.com/neo4j/visualizing-shortest-paths-with-neomap-0-4-0-and-the-neo4j-graph-data-science-plugin-18db92f680de"
   ]
  },
  {
   "cell_type": "code",
   "execution_count": null,
   "id": "c4fb2e77-4709-43c5-800c-a8404247b0d0",
   "metadata": {},
   "outputs": [],
   "source": []
  },
  {
   "cell_type": "code",
   "execution_count": null,
   "id": "9b9e322b-8f9a-42be-8895-485b8e777e84",
   "metadata": {},
   "outputs": [],
   "source": []
  }
 ],
 "metadata": {
  "kernelspec": {
   "display_name": ".envgpu",
   "language": "python",
   "name": ".envgpu"
  },
  "language_info": {
   "codemirror_mode": {
    "name": "ipython",
    "version": 3
   },
   "file_extension": ".py",
   "mimetype": "text/x-python",
   "name": "python",
   "nbconvert_exporter": "python",
   "pygments_lexer": "ipython3",
   "version": "3.10.12"
  }
 },
 "nbformat": 4,
 "nbformat_minor": 5
}
