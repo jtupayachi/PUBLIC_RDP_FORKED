{
 "cells": [
  {
   "cell_type": "markdown",
   "id": "540b7c71-1398-409b-bd4a-705ee83b42ca",
   "metadata": {},
   "source": [
    "# from a sandbox"
   ]
  },
  {
   "cell_type": "markdown",
   "id": "a97ec2a7-d04d-4050-b3a2-183e8208ce22",
   "metadata": {},
   "source": [
    "## secure"
   ]
  },
  {
   "cell_type": "code",
   "execution_count": 7,
   "id": "d77b33a7-fb2e-4854-9d76-4708d91282c9",
   "metadata": {},
   "outputs": [
    {
     "name": "stdout",
     "output_type": "stream",
     "text": [
      "[{'n': {'name': 'Albany NY  CFS Area', 'coordinates': '(-73.754968, 42.6511674)'}}, {'n': {'name': 'Vermont', 'coordinates': '(-72.5002608, 44.5990718)'}}, {'n': {'name': 'Hartford CT', 'coordinates': '(-72.6908547, 41.764582)'}}, {'n': {'coordinates': '(-74.0060152, 40.7127281)', 'name': 'New York NY-NJ-CT-PA (NY Part)'}}, {'n': {'coordinates': '(-75.1635262, 39.9527237)', 'name': 'Philadelphia PA-NJ-DE-MD (NJ Part)'}}, {'n': {'coordinates': '(-71.060511, 42.3554334)', 'name': 'Boston MA-RI-NH-CT (MA Part)'}}, {'n': {'name': 'Buffalo NY  CFS Area', 'coordinates': '(-78.8783922, 42.8867166)'}}, {'n': {'name': 'Cleveland OH', 'coordinates': '(-81.6936772, 41.4996574)'}}, {'n': {'name': 'Columbus OH', 'coordinates': '(-83.0007065, 39.9622601)'}}, {'n': {'coordinates': '(-79.9900861, 40.4416941)', 'name': 'Pittsburgh PA-OH-WV (PA Part)'}}, {'n': {'name': 'Knoxville TN', 'coordinates': '(-83.9210261, 35.9603948)'}}, {'n': {'coordinates': '(-84.5124602, 39.1014537)', 'name': 'Cincinnati OH-KY-IN (KY Part)'}}, {'n': {'name': 'Chicago IL-IN-WI (IN Part)', 'coordinates': '(-87.6244212, 41.8755616)'}}, {'n': {'name': 'Grand Rapids MI', 'coordinates': '(-85.6678639, 42.9632425)'}}, {'n': {'name': 'Milwaukee WI', 'coordinates': '(-87.922497, 43.0349931)'}}, {'n': {'name': 'Fort Wayne IN', 'coordinates': '(-85.1386015, 41.0799898)'}}, {'n': {'name': 'Indianapolis IN', 'coordinates': '(-86.1583502, 39.7683331)'}}, {'n': {'name': 'Mobile AL', 'coordinates': '(-84.853229, 39.092585)'}}, {'n': {'name': 'Los Angeles CA', 'coordinates': '(-118.242766, 34.0536909)'}}, {'n': {'name': 'Fresno CA', 'coordinates': '(-119.782872, 36.738324)'}}, {'n': {'name': 'Sacramento CA', 'coordinates': '(-121.493895, 38.5810606)'}}, {'n': {'name': 'San Diego CA', 'coordinates': '(-117.169295, 32.7166921)'}}, {'n': {'name': 'Las Vegas NV-AZ (NV Part)', 'coordinates': '(-115.148516, 36.1672559)'}}, {'n': {'name': 'San Francisco CA', 'coordinates': '(-122.419906, 37.7790262)'}}, {'n': {'name': 'New Orleans LA-MS (LA Part)', 'coordinates': '(-90.0782127, 29.9759983)'}}]\n"
     ]
    }
   ],
   "source": [
    "## using secure\n",
    "from langchain_community.graphs import Neo4jGraph\n",
    "\n",
    "graph = Neo4jGraph(\n",
    "    url=\"neo4j+s://recoil.ise.utk.edu:7687\",\n",
    "    username=\"neo4j\",\n",
    "    password=\"recoilneo4j\"\n",
    ")\n",
    "\n",
    "result = graph.query(\"\"\"\n",
    "MATCH (n:City) RETURN n LIMIT 25\n",
    "\"\"\")\n",
    "\n",
    "print(result)"
   ]
  },
  {
   "cell_type": "code",
   "execution_count": 11,
   "id": "1fb18b0e-4275-4a5b-a3ed-57015a0f2995",
   "metadata": {},
   "outputs": [
    {
     "name": "stdout",
     "output_type": "stream",
     "text": [
      "[{'n': {'name': 'Albany NY  CFS Area'}}, {'n': {'name': 'New York NY-NJ-CT-PA (NY Part)'}}, {'n': {'name': 'Rochester NY'}}, {'n': {'name': 'Atlanta GA'}}, {'n': {'name': 'Birmingham AL'}}, {'n': {'name': 'Jacksonville FL-GA  CFS Area (FL Part)'}}, {'n': {'name': 'Greenville SC'}}, {'n': {'name': 'Nashville TN'}}, {'n': {'name': 'Austin TX'}}, {'n': {'name': 'Houston TX'}}, {'n': {'name': 'San Antonio TX'}}, {'n': {'name': 'Baltimore MD'}}, {'n': {'name': 'Washington DC-VA-MD-WV (VA Part)'}}, {'n': {'name': 'Philadelphia PA-NJ-DE-MD (PA Part)'}}, {'n': {'name': 'Baton Rouge LA'}}, {'n': {'name': 'Tampa FL'}}, {'n': {'name': 'Orlando FL'}}, {'n': {'name': 'Beaumont TX'}}, {'n': {'name': 'New Orleans LA-MS (LA Part)'}}, {'n': {'name': 'Tulsa OK'}}, {'n': {'name': 'Memphis TN-MS-AR (TN Part)'}}, {'n': {'name': 'Boston MA-RI-NH-CT (RI Part)'}}, {'n': {'name': 'Hartford CT'}}, {'n': {'name': 'Buffalo NY  CFS Area'}}, {'n': {'name': 'Cleveland OH'}}]\n"
     ]
    }
   ],
   "source": [
    "result = graph.query(\"\"\"\n",
    "use routes\n",
    "MATCH (n:City) RETURN n LIMIT 25\n",
    "\"\"\")\n",
    "\n",
    "print(result)"
   ]
  },
  {
   "cell_type": "code",
   "execution_count": 4,
   "id": "3e1cccd8-53f6-4e43-a251-177d6824c2e8",
   "metadata": {},
   "outputs": [
    {
     "name": "stdout",
     "output_type": "stream",
     "text": [
      "[]\n"
     ]
    }
   ],
   "source": [
    "## add `use asj4j` is important; otherwise, it uses the default neo4j db.\n",
    "result = graph.query(\"\"\"\n",
    "use asl4j\n",
    "MATCH (n:ST) RETURN n LIMIT 25\n",
    "\"\"\")\n",
    "\n",
    "print(result)"
   ]
  },
  {
   "cell_type": "markdown",
   "id": "7a4fe201-67ba-407d-8a80-8f0b378f980c",
   "metadata": {},
   "source": [
    "## default"
   ]
  },
  {
   "cell_type": "code",
   "execution_count": 12,
   "id": "320d4e59-6487-4aa8-b871-4c2cc4c92936",
   "metadata": {},
   "outputs": [
    {
     "name": "stdout",
     "output_type": "stream",
     "text": [
      "[{'n': {'name': 'Albany NY  CFS Area', 'coordinates': '(-73.754968, 42.6511674)'}}, {'n': {'name': 'Vermont', 'coordinates': '(-72.5002608, 44.5990718)'}}, {'n': {'name': 'Hartford CT', 'coordinates': '(-72.6908547, 41.764582)'}}, {'n': {'coordinates': '(-74.0060152, 40.7127281)', 'name': 'New York NY-NJ-CT-PA (NY Part)'}}, {'n': {'coordinates': '(-75.1635262, 39.9527237)', 'name': 'Philadelphia PA-NJ-DE-MD (NJ Part)'}}, {'n': {'coordinates': '(-71.060511, 42.3554334)', 'name': 'Boston MA-RI-NH-CT (MA Part)'}}, {'n': {'name': 'Buffalo NY  CFS Area', 'coordinates': '(-78.8783922, 42.8867166)'}}, {'n': {'name': 'Cleveland OH', 'coordinates': '(-81.6936772, 41.4996574)'}}, {'n': {'name': 'Columbus OH', 'coordinates': '(-83.0007065, 39.9622601)'}}, {'n': {'coordinates': '(-79.9900861, 40.4416941)', 'name': 'Pittsburgh PA-OH-WV (PA Part)'}}, {'n': {'name': 'Knoxville TN', 'coordinates': '(-83.9210261, 35.9603948)'}}, {'n': {'coordinates': '(-84.5124602, 39.1014537)', 'name': 'Cincinnati OH-KY-IN (KY Part)'}}, {'n': {'name': 'Chicago IL-IN-WI (IN Part)', 'coordinates': '(-87.6244212, 41.8755616)'}}, {'n': {'name': 'Grand Rapids MI', 'coordinates': '(-85.6678639, 42.9632425)'}}, {'n': {'name': 'Milwaukee WI', 'coordinates': '(-87.922497, 43.0349931)'}}, {'n': {'name': 'Fort Wayne IN', 'coordinates': '(-85.1386015, 41.0799898)'}}, {'n': {'name': 'Indianapolis IN', 'coordinates': '(-86.1583502, 39.7683331)'}}, {'n': {'name': 'Mobile AL', 'coordinates': '(-84.853229, 39.092585)'}}, {'n': {'name': 'Los Angeles CA', 'coordinates': '(-118.242766, 34.0536909)'}}, {'n': {'name': 'Fresno CA', 'coordinates': '(-119.782872, 36.738324)'}}, {'n': {'name': 'Sacramento CA', 'coordinates': '(-121.493895, 38.5810606)'}}, {'n': {'name': 'San Diego CA', 'coordinates': '(-117.169295, 32.7166921)'}}, {'n': {'name': 'Las Vegas NV-AZ (NV Part)', 'coordinates': '(-115.148516, 36.1672559)'}}, {'n': {'name': 'San Francisco CA', 'coordinates': '(-122.419906, 37.7790262)'}}, {'n': {'name': 'New Orleans LA-MS (LA Part)', 'coordinates': '(-90.0782127, 29.9759983)'}}]\n"
     ]
    }
   ],
   "source": [
    "from langchain_community.graphs import Neo4jGraph\n",
    "\n",
    "graph = Neo4jGraph(\n",
    "    url=\"neo4j://recoil.ise.utk.edu:7687\",\n",
    "    username=\"neo4j\",\n",
    "    password=\"recoilneo4j\"\n",
    ")\n",
    "\n",
    "result = graph.query(\"\"\"\n",
    "MATCH (n:City) RETURN n LIMIT 25\n",
    "\"\"\")\n",
    "\n",
    "print(result)"
   ]
  },
  {
   "cell_type": "code",
   "execution_count": 13,
   "id": "d63464e3-27a3-46dd-8bfd-75847b9a9136",
   "metadata": {},
   "outputs": [
    {
     "name": "stdout",
     "output_type": "stream",
     "text": [
      "[{'label': 'Movie'}, {'label': 'Person'}, {'label': 'Greeting'}, {'label': 'Database'}, {'label': 'Message'}, {'label': 'WORK_ORDER'}, {'label': 'STATUS'}, {'label': 'Location'}, {'label': 'City'}, {'label': 'Destination'}]\n"
     ]
    }
   ],
   "source": [
    "result = graph.query(\"\"\"\n",
    "CALL db.labels()\n",
    "\"\"\")\n",
    "\n",
    "print(result)"
   ]
  },
  {
   "cell_type": "code",
   "execution_count": 14,
   "id": "cd426d65-ea20-47c9-b2a9-f914c6421fd6",
   "metadata": {},
   "outputs": [],
   "source": [
    "graph.refresh_schema()"
   ]
  },
  {
   "cell_type": "code",
   "execution_count": 15,
   "id": "13e29d60-b520-4c9c-b390-3b2ad2a207a5",
   "metadata": {},
   "outputs": [
    {
     "name": "stdout",
     "output_type": "stream",
     "text": [
      "Node properties:\n",
      "Movie {title: STRING, tagline: STRING, released: INTEGER}\n",
      "Person {born: INTEGER, name: STRING}\n",
      "Greeting {message: STRING}\n",
      "Database {name: STRING}\n",
      "Message {name: STRING}\n",
      "WORK_ORDER {work_order: INTEGER, cost_actual: FLOAT}\n",
      "STATUS {name: STRING}\n",
      "Location {name: STRING, coordinates: STRING}\n",
      "City {name: STRING, coordinates: STRING, latitude: FLOAT, longitude: FLOAT}\n",
      "Destination {longitude: FLOAT, dms_string: STRING, dms_mode: STRING, latitude: FLOAT}\n",
      "Relationship properties:\n",
      "ACTED_IN {roles: LIST}\n",
      "REVIEWED {summary: STRING, rating: INTEGER}\n",
      "RAIL_ROUTE {tons_2021: FLOAT, tons_2035: FLOAT, tons_2030: FLOAT, tons_2022: FLOAT, tons_2050: FLOAT, tons_2020: FLOAT, distance_miles: FLOAT, tons_2040: FLOAT, tons_2018: FLOAT, mode: STRING, tons_2017: FLOAT, tons_2019: FLOAT, tons_2045: FLOAT, tons_2025: FLOAT}\n",
      "CONNECTED_TO {distance: FLOAT}\n",
      "REACHES {distance: FLOAT, path: STRING}\n",
      "The relationships:\n",
      "(:Person)-[:ACTED_IN]->(:Movie)\n",
      "(:Person)-[:DIRECTED]->(:Movie)\n",
      "(:Person)-[:PRODUCED]->(:Movie)\n",
      "(:Person)-[:WROTE]->(:Movie)\n",
      "(:Person)-[:FOLLOWS]->(:Person)\n",
      "(:Person)-[:REVIEWED]->(:Movie)\n",
      "(:Database)-[:SAYS]->(:Message)\n",
      "(:WORK_ORDER)-[:HAS_STATUS]->(:STATUS)\n",
      "(:Location)-[:RAIL_ROUTE]->(:Location)\n",
      "(:City)-[:CONNECTED_TO]->(:City)\n",
      "(:Destination)-[:REACHES]->(:City)\n"
     ]
    }
   ],
   "source": [
    "print(graph.schema)\n"
   ]
  },
  {
   "cell_type": "markdown",
   "id": "f9be1c9d-e95f-45f7-a053-27b0480d52fb",
   "metadata": {},
   "source": [
    "## Neo4jVector"
   ]
  },
  {
   "cell_type": "markdown",
   "id": "daff5cb6-9b0d-4dfb-888d-88e574e0fac7",
   "metadata": {},
   "source": [
    "CREATE VECTOR INDEX [index_name] [IF NOT EXISTS]\n",
    "FOR ()-”[“r:TYPE_NAME”]”-()\n",
    "ON (r.propertyName)\n",
    "OPTIONS \"{\" option: value[, ...] \"}\"\n",
    "\n",
    "CREATE VECTOR INDEX `review-embeddings`\n",
    "FOR ()-[r:REVIEWED]-() ON (r.embedding)\n",
    "OPTIONS {indexConfig: {\n",
    " `vector.dimensions`: 1536,\n",
    " `vector.similarity_function`: 'cosine'\n",
    "}}\n",
    "\n",
    "CREATE VECTOR INDEX `plot-embeddings`\n",
    "FOR ()-[r:Movie]-() ON (r.plot)\n",
    "OPTIONS {indexConfig: {\n",
    " `vector.dimensions`: 1536,\n",
    " `vector.similarity_function`: 'cosine'\n",
    "}}"
   ]
  },
  {
   "cell_type": "code",
   "execution_count": 20,
   "id": "7a30a5c3-cbb8-4cff-936f-f085a5bac549",
   "metadata": {
    "scrolled": true
   },
   "outputs": [
    {
     "name": "stdout",
     "output_type": "stream",
     "text": [
      "Defaulting to user installation because normal site-packages is not writeable\n",
      "Collecting langchain-openai\n",
      "  Downloading langchain_openai-0.1.9-py3-none-any.whl (40 kB)\n",
      "\u001b[2K     \u001b[90m━━━━━━━━━━━━━━━━━━━━━━━━━━━━━━━━━━━━━━━━\u001b[0m \u001b[32m40.3/40.3 KB\u001b[0m \u001b[31m1.4 MB/s\u001b[0m eta \u001b[36m0:00:00\u001b[0m\n",
      "\u001b[?25hRequirement already satisfied: langchain-core<0.3,>=0.2.2 in /home/jose/.local/lib/python3.10/site-packages (from langchain-openai) (0.2.3)\n",
      "Requirement already satisfied: tiktoken<1,>=0.7 in /home/jose/.local/lib/python3.10/site-packages (from langchain-openai) (0.7.0)\n",
      "Requirement already satisfied: openai<2.0.0,>=1.26.0 in /home/jose/.local/lib/python3.10/site-packages (from langchain-openai) (1.31.0)\n",
      "Requirement already satisfied: PyYAML>=5.3 in /home/jose/.local/lib/python3.10/site-packages (from langchain-core<0.3,>=0.2.2->langchain-openai) (6.0.1)\n",
      "Requirement already satisfied: packaging<24.0,>=23.2 in /usr/local/lib/python3.10/dist-packages (from langchain-core<0.3,>=0.2.2->langchain-openai) (23.2)\n",
      "Requirement already satisfied: tenacity<9.0.0,>=8.1.0 in /home/jose/.local/lib/python3.10/site-packages (from langchain-core<0.3,>=0.2.2->langchain-openai) (8.2.3)\n",
      "Requirement already satisfied: pydantic<3,>=1 in /home/jose/.local/lib/python3.10/site-packages (from langchain-core<0.3,>=0.2.2->langchain-openai) (2.7.1)\n",
      "Requirement already satisfied: jsonpatch<2.0,>=1.33 in /home/jose/.local/lib/python3.10/site-packages (from langchain-core<0.3,>=0.2.2->langchain-openai) (1.33)\n",
      "Requirement already satisfied: langsmith<0.2.0,>=0.1.65 in /home/jose/.local/lib/python3.10/site-packages (from langchain-core<0.3,>=0.2.2->langchain-openai) (0.1.67)\n",
      "Requirement already satisfied: sniffio in /usr/local/lib/python3.10/dist-packages (from openai<2.0.0,>=1.26.0->langchain-openai) (1.3.1)\n",
      "Requirement already satisfied: typing-extensions<5,>=4.7 in /usr/local/lib/python3.10/dist-packages (from openai<2.0.0,>=1.26.0->langchain-openai) (4.10.0)\n",
      "Requirement already satisfied: httpx<1,>=0.23.0 in /usr/local/lib/python3.10/dist-packages (from openai<2.0.0,>=1.26.0->langchain-openai) (0.27.0)\n",
      "Requirement already satisfied: tqdm>4 in /home/jose/.local/lib/python3.10/site-packages (from openai<2.0.0,>=1.26.0->langchain-openai) (4.66.2)\n",
      "Requirement already satisfied: anyio<5,>=3.5.0 in /usr/local/lib/python3.10/dist-packages (from openai<2.0.0,>=1.26.0->langchain-openai) (4.3.0)\n",
      "Requirement already satisfied: distro<2,>=1.7.0 in /usr/lib/python3/dist-packages (from openai<2.0.0,>=1.26.0->langchain-openai) (1.7.0)\n",
      "Requirement already satisfied: regex>=2022.1.18 in /home/jose/.local/lib/python3.10/site-packages (from tiktoken<1,>=0.7->langchain-openai) (2024.5.15)\n",
      "Requirement already satisfied: requests>=2.26.0 in /home/jose/.local/lib/python3.10/site-packages (from tiktoken<1,>=0.7->langchain-openai) (2.32.2)\n",
      "Requirement already satisfied: exceptiongroup>=1.0.2 in /usr/local/lib/python3.10/dist-packages (from anyio<5,>=3.5.0->openai<2.0.0,>=1.26.0->langchain-openai) (1.2.0)\n",
      "Requirement already satisfied: idna>=2.8 in /home/jose/.local/lib/python3.10/site-packages (from anyio<5,>=3.5.0->openai<2.0.0,>=1.26.0->langchain-openai) (3.7)\n",
      "Requirement already satisfied: certifi in /home/jose/.local/lib/python3.10/site-packages (from httpx<1,>=0.23.0->openai<2.0.0,>=1.26.0->langchain-openai) (2024.6.2)\n",
      "Requirement already satisfied: httpcore==1.* in /usr/local/lib/python3.10/dist-packages (from httpx<1,>=0.23.0->openai<2.0.0,>=1.26.0->langchain-openai) (1.0.4)\n",
      "Requirement already satisfied: h11<0.15,>=0.13 in /usr/local/lib/python3.10/dist-packages (from httpcore==1.*->httpx<1,>=0.23.0->openai<2.0.0,>=1.26.0->langchain-openai) (0.14.0)\n",
      "Requirement already satisfied: jsonpointer>=1.9 in /usr/lib/python3/dist-packages (from jsonpatch<2.0,>=1.33->langchain-core<0.3,>=0.2.2->langchain-openai) (2.0)\n",
      "Requirement already satisfied: orjson<4.0.0,>=3.9.14 in /home/jose/.local/lib/python3.10/site-packages (from langsmith<0.2.0,>=0.1.65->langchain-core<0.3,>=0.2.2->langchain-openai) (3.10.3)\n",
      "Requirement already satisfied: annotated-types>=0.4.0 in /home/jose/.local/lib/python3.10/site-packages (from pydantic<3,>=1->langchain-core<0.3,>=0.2.2->langchain-openai) (0.7.0)\n",
      "Requirement already satisfied: pydantic-core==2.18.2 in /home/jose/.local/lib/python3.10/site-packages (from pydantic<3,>=1->langchain-core<0.3,>=0.2.2->langchain-openai) (2.18.2)\n",
      "Requirement already satisfied: urllib3<3,>=1.21.1 in /home/jose/.local/lib/python3.10/site-packages (from requests>=2.26.0->tiktoken<1,>=0.7->langchain-openai) (2.2.1)\n",
      "Requirement already satisfied: charset-normalizer<4,>=2 in /usr/local/lib/python3.10/dist-packages (from requests>=2.26.0->tiktoken<1,>=0.7->langchain-openai) (3.3.2)\n",
      "Installing collected packages: langchain-openai\n",
      "Successfully installed langchain-openai-0.1.9\n"
     ]
    }
   ],
   "source": [
    "!pip install langchain-openai"
   ]
  },
  {
   "cell_type": "code",
   "execution_count": 25,
   "id": "039508a7-ec3b-4283-8475-1c3be24a56fe",
   "metadata": {},
   "outputs": [
    {
     "ename": "ValueError",
     "evalue": "The specified vector index name does not exist. Make sure to check if you spelled it correctly",
     "output_type": "error",
     "traceback": [
      "\u001b[0;31m---------------------------------------------------------------------------\u001b[0m",
      "\u001b[0;31mValueError\u001b[0m                                Traceback (most recent call last)",
      "Cell \u001b[0;32mIn[25], line 26\u001b[0m\n\u001b[1;32m     23\u001b[0m graph\u001b[38;5;241m.\u001b[39mquery(create_index_query)\n\u001b[1;32m     25\u001b[0m \u001b[38;5;66;03m# Load the vector index from Neo4j\u001b[39;00m\n\u001b[0;32m---> 26\u001b[0m city_vector \u001b[38;5;241m=\u001b[39m \u001b[43mNeo4jVector\u001b[49m\u001b[38;5;241;43m.\u001b[39;49m\u001b[43mfrom_existing_index\u001b[49m\u001b[43m(\u001b[49m\n\u001b[1;32m     27\u001b[0m \u001b[43m    \u001b[49m\u001b[43membedding_provider\u001b[49m\u001b[43m,\u001b[49m\n\u001b[1;32m     28\u001b[0m \u001b[43m    \u001b[49m\u001b[43murl\u001b[49m\u001b[38;5;241;43m=\u001b[39;49m\u001b[38;5;124;43m\"\u001b[39;49m\u001b[38;5;124;43mneo4j+s://recoil.ise.utk.edu:7687\u001b[39;49m\u001b[38;5;124;43m\"\u001b[39;49m\u001b[43m,\u001b[49m\n\u001b[1;32m     29\u001b[0m \u001b[43m    \u001b[49m\u001b[43musername\u001b[49m\u001b[38;5;241;43m=\u001b[39;49m\u001b[38;5;124;43m\"\u001b[39;49m\u001b[38;5;124;43mneo4j\u001b[39;49m\u001b[38;5;124;43m\"\u001b[39;49m\u001b[43m,\u001b[49m\n\u001b[1;32m     30\u001b[0m \u001b[43m    \u001b[49m\u001b[43mpassword\u001b[49m\u001b[38;5;241;43m=\u001b[39;49m\u001b[38;5;124;43m\"\u001b[39;49m\u001b[38;5;124;43mrecoilneo4j\u001b[39;49m\u001b[38;5;124;43m\"\u001b[39;49m\u001b[43m,\u001b[49m\n\u001b[1;32m     31\u001b[0m \u001b[43m    \u001b[49m\u001b[43mindex_name\u001b[49m\u001b[38;5;241;43m=\u001b[39;49m\u001b[38;5;124;43m\"\u001b[39;49m\u001b[38;5;124;43mcityIndex\u001b[39;49m\u001b[38;5;124;43m\"\u001b[39;49m\u001b[43m,\u001b[49m\n\u001b[1;32m     32\u001b[0m \u001b[43m    \u001b[49m\u001b[43membedding_node_property\u001b[49m\u001b[38;5;241;43m=\u001b[39;49m\u001b[38;5;124;43m\"\u001b[39;49m\u001b[38;5;124;43membedding\u001b[39;49m\u001b[38;5;124;43m\"\u001b[39;49m\u001b[43m,\u001b[49m\n\u001b[1;32m     33\u001b[0m \u001b[43m    \u001b[49m\u001b[43mtext_node_property\u001b[49m\u001b[38;5;241;43m=\u001b[39;49m\u001b[38;5;124;43m\"\u001b[39;49m\u001b[38;5;124;43mdescription\u001b[39;49m\u001b[38;5;124;43m\"\u001b[39;49m\u001b[43m,\u001b[49m\u001b[43m  \u001b[49m\u001b[38;5;66;43;03m# Assuming there is a text description property\u001b[39;49;00m\n\u001b[1;32m     34\u001b[0m \u001b[43m)\u001b[49m\n\u001b[1;32m     36\u001b[0m \u001b[38;5;66;03m# Perform similarity search\u001b[39;00m\n\u001b[1;32m     37\u001b[0m result \u001b[38;5;241m=\u001b[39m city_vector\u001b[38;5;241m.\u001b[39msimilarity_search(\u001b[38;5;124m\"\u001b[39m\u001b[38;5;124mNeighboring cities of wichita.\u001b[39m\u001b[38;5;124m\"\u001b[39m)\n",
      "File \u001b[0;32m~/.local/lib/python3.10/site-packages/langchain_community/vectorstores/neo4j_vector.py:1196\u001b[0m, in \u001b[0;36mNeo4jVector.from_existing_index\u001b[0;34m(cls, embedding, index_name, search_type, keyword_index_name, **kwargs)\u001b[0m\n\u001b[1;32m   1189\u001b[0m     \u001b[38;5;28;01mraise\u001b[39;00m \u001b[38;5;167;01mValueError\u001b[39;00m(\n\u001b[1;32m   1190\u001b[0m         \u001b[38;5;124m\"\u001b[39m\u001b[38;5;124mRelationship vector index is not supported with \u001b[39m\u001b[38;5;124m\"\u001b[39m\n\u001b[1;32m   1191\u001b[0m         \u001b[38;5;124m\"\u001b[39m\u001b[38;5;124m`from_existing_index` method. Please use the \u001b[39m\u001b[38;5;124m\"\u001b[39m\n\u001b[1;32m   1192\u001b[0m         \u001b[38;5;124m\"\u001b[39m\u001b[38;5;124m`from_existing_relationship_index` method.\u001b[39m\u001b[38;5;124m\"\u001b[39m\n\u001b[1;32m   1193\u001b[0m     )\n\u001b[1;32m   1195\u001b[0m \u001b[38;5;28;01mif\u001b[39;00m \u001b[38;5;129;01mnot\u001b[39;00m embedding_dimension:\n\u001b[0;32m-> 1196\u001b[0m     \u001b[38;5;28;01mraise\u001b[39;00m \u001b[38;5;167;01mValueError\u001b[39;00m(\n\u001b[1;32m   1197\u001b[0m         \u001b[38;5;124m\"\u001b[39m\u001b[38;5;124mThe specified vector index name does not exist. \u001b[39m\u001b[38;5;124m\"\u001b[39m\n\u001b[1;32m   1198\u001b[0m         \u001b[38;5;124m\"\u001b[39m\u001b[38;5;124mMake sure to check if you spelled it correctly\u001b[39m\u001b[38;5;124m\"\u001b[39m\n\u001b[1;32m   1199\u001b[0m     )\n\u001b[1;32m   1201\u001b[0m \u001b[38;5;66;03m# Check if embedding function and vector index dimensions match\u001b[39;00m\n\u001b[1;32m   1202\u001b[0m \u001b[38;5;28;01mif\u001b[39;00m \u001b[38;5;129;01mnot\u001b[39;00m store\u001b[38;5;241m.\u001b[39membedding_dimension \u001b[38;5;241m==\u001b[39m embedding_dimension:\n",
      "\u001b[0;31mValueError\u001b[0m: The specified vector index name does not exist. Make sure to check if you spelled it correctly"
     ]
    }
   ],
   "source": [
    "from langchain_openai import OpenAIEmbeddings\n",
    "from langchain_community.vectorstores.neo4j_vector import Neo4jVector\n",
    "from langchain_community.graphs.neo4j_graph import Neo4jGraph\n",
    "\n",
    "# Initialize the OpenAI embeddings provider\n",
    "embedding_provider = OpenAIEmbeddings(\n",
    "    openai_api_key=\"#\"\n",
    ")\n",
    "\n",
    "# Connect to Neo4j\n",
    "graph = Neo4jGraph(\n",
    "    url=\"neo4j+s://recoil.ise.utk.edu:7687\",\n",
    "    username=\"neo4j\",\n",
    "    password=\"recoilneo4j\"\n",
    ")\n",
    "\n",
    "# Create or ensure the vector index exists in Neo4j\n",
    "create_index_query = \"\"\"\n",
    "CREATE INDEX IF NOT EXISTS FOR (c:City) ON (c.embedding)\n",
    "\"\"\"\n",
    "\n",
    "# Run the index creation query\n",
    "graph.query(create_index_query)\n",
    "\n",
    "# Load the vector index from Neo4j\n",
    "city_vector = Neo4jVector.from_existing_index(\n",
    "    embedding_provider,\n",
    "    url=\"neo4j+s://recoil.ise.utk.edu:7687\",\n",
    "    username=\"neo4j\",\n",
    "    password=\"recoilneo4j\",\n",
    "    index_name=\"cityIndex\",\n",
    "    embedding_node_property=\"embedding\",\n",
    "    text_node_property=\"description\",  # Assuming there is a text description property\n",
    ")\n",
    "\n",
    "# Perform similarity search\n",
    "result = city_vector.similarity_search(\"Neighboring cities of wichita.\")\n",
    "for doc in result:\n",
    "    print(doc.metadata[\"name\"], \"-\", doc.page_content)\n"
   ]
  },
  {
   "cell_type": "code",
   "execution_count": 25,
   "id": "efd14703-e96d-4f12-b976-c55aeda88a40",
   "metadata": {},
   "outputs": [
    {
     "name": "stdout",
     "output_type": "stream",
     "text": [
      ">  Can you tell me something about the movie Matrix?\n"
     ]
    },
    {
     "name": "stdout",
     "output_type": "stream",
     "text": [
      "\n",
      "\n",
      "\u001b[1m> Entering new AgentExecutor chain...\u001b[0m\n",
      "\u001b[32;1m\u001b[1;3mThought: Do I need to use a tool? Yes\n",
      "Action: Movie Chat\n",
      "Action Input: The Matrix\u001b[0m\u001b[36;1m\u001b[1;3mSure! \"The Matrix\" is a science fiction action film released in 1999. It follows the story of a computer hacker named Neo who discovers that reality as he knows it is actually a simulated world created by artificial intelligence machines to subdue the human population. He joins a group of rebels led by Morpheus to overthrow the machines and free humanity. The film is known for its groundbreaking visual effects, philosophical themes, and iconic action sequences.\u001b[0m\n",
      "\u001b[32;1m\u001b[1;3m\u001b[0m\n",
      "\n",
      "\u001b[1m> Finished chain.\u001b[0m\n",
      "Sure! \"The Matrix\" is a science fiction action film released in 1999. It follows the story of a computer hacker named Neo who discovers that reality as he knows it is actually a simulated world created by artificial intelligence machines to subdue the human population. He joins a group of rebels led by Morpheus to overthrow the machines and free humanity. The film is known for its groundbreaking visual effects, philosophical themes, and iconic action sequences.\n"
     ]
    },
    {
     "name": "stdout",
     "output_type": "stream",
     "text": [
      ">  Who is the main actor? Who is he playing for in the movie? \n"
     ]
    },
    {
     "name": "stdout",
     "output_type": "stream",
     "text": [
      "\n",
      "\n",
      "\u001b[1m> Entering new AgentExecutor chain...\u001b[0m\n",
      "\u001b[32;1m\u001b[1;3mThought: Do I need to use a tool? No\n",
      "Final Answer: The main actor in \"The Matrix\" is Keanu Reeves, who plays the character Neo in the movie.\u001b[0m\n",
      "\n",
      "\u001b[1m> Finished chain.\u001b[0m\n",
      "The main actor in \"The Matrix\" is Keanu Reeves, who plays the character Neo in the movie.\n"
     ]
    },
    {
     "name": "stdout",
     "output_type": "stream",
     "text": [
      ">  Can you find me a trailer?\n"
     ]
    },
    {
     "name": "stdout",
     "output_type": "stream",
     "text": [
      "\n",
      "\n",
      "\u001b[1m> Entering new AgentExecutor chain...\u001b[0m\n",
      "\u001b[32;1m\u001b[1;3mThought: Do I need to use a tool? Yes\n",
      "Action: Movie Trailer Search\n",
      "Action Input: The Matrix\u001b[0m\u001b[33;1m\u001b[1;3m['https://www.youtube.com/watch?v=vKQi3bBA1y8&pp=ygUKVGhlIE1hdHJpeA%3D%3D', 'https://www.youtube.com/watch?v=Z2eCmhBgsyI&pp=ygUKVGhlIE1hdHJpeA%3D%3D']\u001b[0m\n",
      "\u001b[32;1m\u001b[1;3m\u001b[0m\n",
      "\n",
      "\u001b[1m> Finished chain.\u001b[0m\n",
      "['https://www.youtube.com/watch?v=vKQi3bBA1y8&pp=ygUKVGhlIE1hdHJpeA%3D%3D', 'https://www.youtube.com/watch?v=Z2eCmhBgsyI&pp=ygUKVGhlIE1hdHJpeA%3D%3D']\n"
     ]
    },
    {
     "name": "stdout",
     "output_type": "stream",
     "text": [
      ">  Any other movie similar to this?\n"
     ]
    },
    {
     "name": "stdout",
     "output_type": "stream",
     "text": [
      "\n",
      "\n",
      "\u001b[1m> Entering new AgentExecutor chain...\u001b[0m\n",
      "\u001b[32;1m\u001b[1;3mThought: Do I need to use a tool? Yes\n",
      "Action: Movie Chat\n",
      "Action Input: Any other movie similar to \"The Matrix\"?\u001b[0m\u001b[36;1m\u001b[1;3mYes, there are several movies similar to \"The Matrix\" in terms of their science fiction and action themes. Some recommendations include:\n",
      "1. \"Inception\" (2010) - Directed by Christopher Nolan, this film explores the concept of dreams within dreams and blurs the lines between reality and illusion.\n",
      "2. \"Blade Runner\" (1982) - A neo-noir science fiction film set in a dystopian future where humanoid robots known as replicants are hunted down by special police units.\n",
      "3. \"Ghost in the Shell\" (1995) - An animated Japanese film that delves into the relationship between humans and technology in a cyberpunk world.\n",
      "4. \"Equilibrium\" (2002) - A dystopian film set in a future society where emotions are suppressed and a resistance movement fights against the oppressive regime.\n",
      "5. \"The Matrix Reloaded\" (2003) and \"The Matrix Revolutions\" (2003) - The sequels to the original \"Matrix\" film continue the story of Neo and the fight against the machines.\u001b[0m\n",
      "\u001b[32;1m\u001b[1;3m\u001b[0m\n",
      "\n",
      "\u001b[1m> Finished chain.\u001b[0m\n",
      "Yes, there are several movies similar to \"The Matrix\" in terms of their science fiction and action themes. Some recommendations include:\n",
      "1. \"Inception\" (2010) - Directed by Christopher Nolan, this film explores the concept of dreams within dreams and blurs the lines between reality and illusion.\n",
      "2. \"Blade Runner\" (1982) - A neo-noir science fiction film set in a dystopian future where humanoid robots known as replicants are hunted down by special police units.\n",
      "3. \"Ghost in the Shell\" (1995) - An animated Japanese film that delves into the relationship between humans and technology in a cyberpunk world.\n",
      "4. \"Equilibrium\" (2002) - A dystopian film set in a future society where emotions are suppressed and a resistance movement fights against the oppressive regime.\n",
      "5. \"The Matrix Reloaded\" (2003) and \"The Matrix Revolutions\" (2003) - The sequels to the original \"Matrix\" film continue the story of Neo and the fight against the machines.\n"
     ]
    },
    {
     "name": "stdout",
     "output_type": "stream",
     "text": [
      ">  Any other movie similar to this?\n"
     ]
    },
    {
     "name": "stdout",
     "output_type": "stream",
     "text": [
      "\n",
      "\n",
      "\u001b[1m> Entering new AgentExecutor chain...\u001b[0m\n",
      "\u001b[32;1m\u001b[1;3mThought: Do I need to use a tool? No\n",
      "Final Answer: Yes, there are several movies similar to \"The Matrix\" in terms of their science fiction and action themes. Some recommendations include:\n",
      "1. \"Inception\" (2010) - Directed by Christopher Nolan, this film explores the concept of dreams within dreams and blurs the lines between reality and illusion.\n",
      "2. \"Blade Runner\" (1982) - A neo-noir science fiction film set in a dystopian future where humanoid robots known as replicants are hunted down by special police units.\n",
      "3. \"Ghost in the Shell\" (1995) - An animated Japanese film that delves into the relationship between humans and technology in a cyberpunk world.\n",
      "4. \"Equilibrium\" (2002) - A dystopian film set in a future society where emotions are suppressed and a resistance movement fights against the oppressive regime.\n",
      "5. \"The Matrix Reloaded\" (2003) and \"The Matrix Revolutions\" (2003) - The sequels to the original \"Matrix\" film continue the story of Neo and the fight against the machines.\u001b[0m\n",
      "\n",
      "\u001b[1m> Finished chain.\u001b[0m\n",
      "Yes, there are several movies similar to \"The Matrix\" in terms of their science fiction and action themes. Some recommendations include:\n",
      "1. \"Inception\" (2010) - Directed by Christopher Nolan, this film explores the concept of dreams within dreams and blurs the lines between reality and illusion.\n",
      "2. \"Blade Runner\" (1982) - A neo-noir science fiction film set in a dystopian future where humanoid robots known as replicants are hunted down by special police units.\n",
      "3. \"Ghost in the Shell\" (1995) - An animated Japanese film that delves into the relationship between humans and technology in a cyberpunk world.\n",
      "4. \"Equilibrium\" (2002) - A dystopian film set in a future society where emotions are suppressed and a resistance movement fights against the oppressive regime.\n",
      "5. \"The Matrix Reloaded\" (2003) and \"The Matrix Revolutions\" (2003) - The sequels to the original \"Matrix\" film continue the story of Neo and the fight against the machines.\n"
     ]
    },
    {
     "name": "stdout",
     "output_type": "stream",
     "text": [
      ">  Any movie will you recommend from 2023?\n"
     ]
    },
    {
     "name": "stdout",
     "output_type": "stream",
     "text": [
      "\n",
      "\n",
      "\u001b[1m> Entering new AgentExecutor chain...\u001b[0m\n",
      "\u001b[32;1m\u001b[1;3mThought: Do I need to use a tool? No\n",
      "Final Answer: I can recommend some upcoming movies from 2023 that you might be interested in. Some highly anticipated movies for 2023 include \"Avatar 2,\" \"Black Panther: Wakanda Forever,\" \"Guardians of the Galaxy Vol. 3,\" \"The Flash,\" and \"Doctor Strange in the Multiverse of Madness.\" These are just a few of the many exciting movies set to be released in 2023.\u001b[0m\n",
      "\n",
      "\u001b[1m> Finished chain.\u001b[0m\n",
      "I can recommend some upcoming movies from 2023 that you might be interested in. Some highly anticipated movies for 2023 include \"Avatar 2,\" \"Black Panther: Wakanda Forever,\" \"Guardians of the Galaxy Vol. 3,\" \"The Flash,\" and \"Doctor Strange in the Multiverse of Madness.\" These are just a few of the many exciting movies set to be released in 2023.\n"
     ]
    },
    {
     "name": "stdout",
     "output_type": "stream",
     "text": [
      ">  How about those in year 2024?\n"
     ]
    },
    {
     "name": "stdout",
     "output_type": "stream",
     "text": [
      "\n",
      "\n",
      "\u001b[1m> Entering new AgentExecutor chain...\u001b[0m\n",
      "\u001b[32;1m\u001b[1;3mThought: Do I need to use a tool? No\n",
      "Final Answer: I can recommend some upcoming movies from 2024 that you might be interested in. However, since it is still 2021, the specific list of movies for 2024 may not be available yet. As we get closer to 2024, more information about upcoming movies for that year will likely be announced.\u001b[0m\n",
      "\n",
      "\u001b[1m> Finished chain.\u001b[0m\n",
      "I can recommend some upcoming movies from 2024 that you might be interested in. However, since it is still 2021, the specific list of movies for 2024 may not be available yet. As we get closer to 2024, more information about upcoming movies for that year will likely be announced.\n"
     ]
    },
    {
     "name": "stdout",
     "output_type": "stream",
     "text": [
      ">  What year is it now?\n"
     ]
    },
    {
     "name": "stdout",
     "output_type": "stream",
     "text": [
      "\n",
      "\n",
      "\u001b[1m> Entering new AgentExecutor chain...\u001b[0m\n",
      "\u001b[32;1m\u001b[1;3mThought: Do I need to use a tool? No\n",
      "Final Answer: The current year is 2021.\u001b[0m\n",
      "\n",
      "\u001b[1m> Finished chain.\u001b[0m\n",
      "The current year is 2021.\n"
     ]
    },
    {
     "name": "stdout",
     "output_type": "stream",
     "text": [
      ">  Who am I talking to?\n"
     ]
    },
    {
     "name": "stdout",
     "output_type": "stream",
     "text": [
      "\n",
      "\n",
      "\u001b[1m> Entering new AgentExecutor chain...\u001b[0m\n",
      "\u001b[32;1m\u001b[1;3mThought: Do I need to use a tool? No\n",
      "Final Answer: You are talking to Assistant, a large language model trained by OpenAI. How can I assist you today?\u001b[0m\n",
      "\n",
      "\u001b[1m> Finished chain.\u001b[0m\n",
      "You are talking to Assistant, a large language model trained by OpenAI. How can I assist you today?\n"
     ]
    },
    {
     "name": "stdout",
     "output_type": "stream",
     "text": [
      ">  What time is it now?\n"
     ]
    },
    {
     "name": "stdout",
     "output_type": "stream",
     "text": [
      "\n",
      "\n",
      "\u001b[1m> Entering new AgentExecutor chain...\u001b[0m\n",
      "\u001b[32;1m\u001b[1;3mThought: Do I need to use a tool? No\n",
      "Final Answer: I'm sorry, but I am unable to provide real-time information such as the current time.\u001b[0m\n",
      "\n",
      "\u001b[1m> Finished chain.\u001b[0m\n",
      "I'm sorry, but I am unable to provide real-time information such as the current time.\n"
     ]
    },
    {
     "name": "stdout",
     "output_type": "stream",
     "text": [
      ">  Can you provide a code example using VueJS to manage state in an app development?\n"
     ]
    },
    {
     "name": "stdout",
     "output_type": "stream",
     "text": [
      "\n",
      "\n",
      "\u001b[1m> Entering new AgentExecutor chain...\u001b[0m\n",
      "\u001b[32;1m\u001b[1;3mThought: Do I need to use a tool? No\n",
      "Final Answer: Sure, here is an example of how you can manage state in an app development using VueJS:\n",
      "\n",
      "```javascript\n",
      "// main.js\n",
      "import Vue from 'vue'\n",
      "import App from './App.vue'\n",
      "\n",
      "Vue.config.productionTip = false\n",
      "\n",
      "new Vue({\n",
      "  render: h => h(App),\n",
      "}).$mount('#app')\n",
      "\n",
      "// App.vue\n",
      "<template>\n",
      "  <div>\n",
      "    <h1>{{ message }}</h1>\n",
      "    <button @click=\"updateMessage\">Update Message</button>\n",
      "  </div>\n",
      "</template>\n",
      "\n",
      "<script>\n",
      "export default {\n",
      "  data() {\n",
      "    return {\n",
      "      message: 'Hello, World!'\n",
      "    }\n",
      "  },\n",
      "  methods: {\n",
      "    updateMessage() {\n",
      "      this.message = 'Goodbye, World!'\n",
      "    }\n",
      "  }\n",
      "}\n",
      "</script>\n",
      "```\n",
      "\n",
      "In this example, we have a simple Vue app with a message state that is initially set to 'Hello, World!'. When the button is clicked, the message is updated to 'Goodbye, World!'. This is a basic example of how you can manage state in a VueJS app. Let me know if you need more information or assistance!\u001b[0m\n",
      "\n",
      "\u001b[1m> Finished chain.\u001b[0m\n",
      "Sure, here is an example of how you can manage state in an app development using VueJS:\n",
      "\n",
      "```javascript\n",
      "// main.js\n",
      "import Vue from 'vue'\n",
      "import App from './App.vue'\n",
      "\n",
      "Vue.config.productionTip = false\n",
      "\n",
      "new Vue({\n",
      "  render: h => h(App),\n",
      "}).$mount('#app')\n",
      "\n",
      "// App.vue\n",
      "<template>\n",
      "  <div>\n",
      "    <h1>{{ message }}</h1>\n",
      "    <button @click=\"updateMessage\">Update Message</button>\n",
      "  </div>\n",
      "</template>\n",
      "\n",
      "<script>\n",
      "export default {\n",
      "  data() {\n",
      "    return {\n",
      "      message: 'Hello, World!'\n",
      "    }\n",
      "  },\n",
      "  methods: {\n",
      "    updateMessage() {\n",
      "      this.message = 'Goodbye, World!'\n",
      "    }\n",
      "  }\n",
      "}\n",
      "</script>\n",
      "```\n",
      "\n",
      "In this example, we have a simple Vue app with a message state that is initially set to 'Hello, World!'. When the button is clicked, the message is updated to 'Goodbye, World!'. This is a basic example of how you can manage state in a VueJS app. Let me know if you need more information or assistance!\n"
     ]
    },
    {
     "name": "stdout",
     "output_type": "stream",
     "text": [
      ">  q\n"
     ]
    },
    {
     "name": "stdout",
     "output_type": "stream",
     "text": [
      "\n",
      "\n",
      "\u001b[1m> Entering new AgentExecutor chain...\u001b[0m\n",
      "\u001b[32;1m\u001b[1;3mThought: Do I need to use a tool? No\n",
      "Final Answer: Sure! How can I assist you today?\u001b[0m\n",
      "\n",
      "\u001b[1m> Finished chain.\u001b[0m\n",
      "Sure! How can I assist you today?\n"
     ]
    },
    {
     "name": "stdout",
     "output_type": "stream",
     "text": [
      ">  quit\n"
     ]
    },
    {
     "name": "stdout",
     "output_type": "stream",
     "text": [
      "\n",
      "\n",
      "\u001b[1m> Entering new AgentExecutor chain...\u001b[0m\n",
      "\u001b[32;1m\u001b[1;3mThought: Do I need to use a tool? No\n",
      "Final Answer: It seems like you're ending the conversation. If you have any more questions in the future, feel free to ask. Have a great day!\u001b[0m\n",
      "\n",
      "\u001b[1m> Finished chain.\u001b[0m\n",
      "It seems like you're ending the conversation. If you have any more questions in the future, feel free to ask. Have a great day!\n"
     ]
    },
    {
     "ename": "KeyboardInterrupt",
     "evalue": "Interrupted by user",
     "output_type": "error",
     "traceback": [
      "\u001b[0;31m---------------------------------------------------------------------------\u001b[0m",
      "\u001b[0;31mKeyboardInterrupt\u001b[0m                         Traceback (most recent call last)",
      "Cell \u001b[0;32mIn[25], line 89\u001b[0m\n\u001b[1;32m     80\u001b[0m agent_executor \u001b[38;5;241m=\u001b[39m AgentExecutor(\n\u001b[1;32m     81\u001b[0m     agent\u001b[38;5;241m=\u001b[39magent,\n\u001b[1;32m     82\u001b[0m     tools\u001b[38;5;241m=\u001b[39mtools,\n\u001b[0;32m   (...)\u001b[0m\n\u001b[1;32m     85\u001b[0m     verbose\u001b[38;5;241m=\u001b[39m\u001b[38;5;28;01mTrue\u001b[39;00m,\n\u001b[1;32m     86\u001b[0m     handle_parse_errors\u001b[38;5;241m=\u001b[39m\u001b[38;5;28;01mTrue\u001b[39;00m)\n\u001b[1;32m     88\u001b[0m \u001b[38;5;28;01mwhile\u001b[39;00m \u001b[38;5;28;01mTrue\u001b[39;00m:\n\u001b[0;32m---> 89\u001b[0m     q \u001b[38;5;241m=\u001b[39m \u001b[38;5;28;43minput\u001b[39;49m\u001b[43m(\u001b[49m\u001b[38;5;124;43m\"\u001b[39;49m\u001b[38;5;124;43m> \u001b[39;49m\u001b[38;5;124;43m\"\u001b[39;49m\u001b[43m)\u001b[49m\n\u001b[1;32m     90\u001b[0m     response \u001b[38;5;241m=\u001b[39m agent_executor\u001b[38;5;241m.\u001b[39minvoke({\u001b[38;5;124m\"\u001b[39m\u001b[38;5;124minput\u001b[39m\u001b[38;5;124m\"\u001b[39m: q})\n\u001b[1;32m     91\u001b[0m     \u001b[38;5;28mprint\u001b[39m(response[\u001b[38;5;124m\"\u001b[39m\u001b[38;5;124moutput\u001b[39m\u001b[38;5;124m\"\u001b[39m])\n",
      "File \u001b[0;32m~/.local/lib/python3.10/site-packages/ipykernel/kernelbase.py:1282\u001b[0m, in \u001b[0;36mKernel.raw_input\u001b[0;34m(self, prompt)\u001b[0m\n\u001b[1;32m   1280\u001b[0m     msg \u001b[38;5;241m=\u001b[39m \u001b[38;5;124m\"\u001b[39m\u001b[38;5;124mraw_input was called, but this frontend does not support input requests.\u001b[39m\u001b[38;5;124m\"\u001b[39m\n\u001b[1;32m   1281\u001b[0m     \u001b[38;5;28;01mraise\u001b[39;00m StdinNotImplementedError(msg)\n\u001b[0;32m-> 1282\u001b[0m \u001b[38;5;28;01mreturn\u001b[39;00m \u001b[38;5;28;43mself\u001b[39;49m\u001b[38;5;241;43m.\u001b[39;49m\u001b[43m_input_request\u001b[49m\u001b[43m(\u001b[49m\n\u001b[1;32m   1283\u001b[0m \u001b[43m    \u001b[49m\u001b[38;5;28;43mstr\u001b[39;49m\u001b[43m(\u001b[49m\u001b[43mprompt\u001b[49m\u001b[43m)\u001b[49m\u001b[43m,\u001b[49m\n\u001b[1;32m   1284\u001b[0m \u001b[43m    \u001b[49m\u001b[38;5;28;43mself\u001b[39;49m\u001b[38;5;241;43m.\u001b[39;49m\u001b[43m_parent_ident\u001b[49m\u001b[43m[\u001b[49m\u001b[38;5;124;43m\"\u001b[39;49m\u001b[38;5;124;43mshell\u001b[39;49m\u001b[38;5;124;43m\"\u001b[39;49m\u001b[43m]\u001b[49m\u001b[43m,\u001b[49m\n\u001b[1;32m   1285\u001b[0m \u001b[43m    \u001b[49m\u001b[38;5;28;43mself\u001b[39;49m\u001b[38;5;241;43m.\u001b[39;49m\u001b[43mget_parent\u001b[49m\u001b[43m(\u001b[49m\u001b[38;5;124;43m\"\u001b[39;49m\u001b[38;5;124;43mshell\u001b[39;49m\u001b[38;5;124;43m\"\u001b[39;49m\u001b[43m)\u001b[49m\u001b[43m,\u001b[49m\n\u001b[1;32m   1286\u001b[0m \u001b[43m    \u001b[49m\u001b[43mpassword\u001b[49m\u001b[38;5;241;43m=\u001b[39;49m\u001b[38;5;28;43;01mFalse\u001b[39;49;00m\u001b[43m,\u001b[49m\n\u001b[1;32m   1287\u001b[0m \u001b[43m\u001b[49m\u001b[43m)\u001b[49m\n",
      "File \u001b[0;32m~/.local/lib/python3.10/site-packages/ipykernel/kernelbase.py:1325\u001b[0m, in \u001b[0;36mKernel._input_request\u001b[0;34m(self, prompt, ident, parent, password)\u001b[0m\n\u001b[1;32m   1322\u001b[0m \u001b[38;5;28;01mexcept\u001b[39;00m \u001b[38;5;167;01mKeyboardInterrupt\u001b[39;00m:\n\u001b[1;32m   1323\u001b[0m     \u001b[38;5;66;03m# re-raise KeyboardInterrupt, to truncate traceback\u001b[39;00m\n\u001b[1;32m   1324\u001b[0m     msg \u001b[38;5;241m=\u001b[39m \u001b[38;5;124m\"\u001b[39m\u001b[38;5;124mInterrupted by user\u001b[39m\u001b[38;5;124m\"\u001b[39m\n\u001b[0;32m-> 1325\u001b[0m     \u001b[38;5;28;01mraise\u001b[39;00m \u001b[38;5;167;01mKeyboardInterrupt\u001b[39;00m(msg) \u001b[38;5;28;01mfrom\u001b[39;00m \u001b[38;5;28;01mNone\u001b[39;00m\n\u001b[1;32m   1326\u001b[0m \u001b[38;5;28;01mexcept\u001b[39;00m \u001b[38;5;167;01mException\u001b[39;00m:\n\u001b[1;32m   1327\u001b[0m     \u001b[38;5;28mself\u001b[39m\u001b[38;5;241m.\u001b[39mlog\u001b[38;5;241m.\u001b[39mwarning(\u001b[38;5;124m\"\u001b[39m\u001b[38;5;124mInvalid Message:\u001b[39m\u001b[38;5;124m\"\u001b[39m, exc_info\u001b[38;5;241m=\u001b[39m\u001b[38;5;28;01mTrue\u001b[39;00m)\n",
      "\u001b[0;31mKeyboardInterrupt\u001b[0m: Interrupted by user"
     ]
    }
   ],
   "source": [
    "## a more complete example\n",
    "\n",
    "from langchain_openai import ChatOpenAI, OpenAIEmbeddings\n",
    "from langchain.prompts import PromptTemplate\n",
    "from langchain.chains import LLMChain, RetrievalQA\n",
    "from langchain.chains.conversation.memory import ConversationBufferMemory\n",
    "from langchain.agents import AgentExecutor, create_react_agent\n",
    "from langchain.tools import Tool\n",
    "from langchain import hub\n",
    "from langchain_community.tools import YouTubeSearchTool\n",
    "from langchain_community.vectorstores.neo4j_vector import Neo4jVector\n",
    "\n",
    "OPENAI_API_KEY = \"#\"\n",
    "\n",
    "llm = ChatOpenAI(openai_api_key=OPENAI_API_KEY)\n",
    "embedding_provider = OpenAIEmbeddings(openai_api_key=OPENAI_API_KEY)\n",
    "\n",
    "prompt = PromptTemplate(\n",
    "    template=\"\"\"\n",
    "    You are a movie expert. You find movies from a genre or plot.\n",
    "\n",
    "    Chat History: {chat_history}\n",
    "    Question: {input}\n",
    "    \"\"\",\n",
    "    input_variables=[\"chat_history\", \"input\"]\n",
    ")\n",
    "\n",
    "memory = ConversationBufferMemory(memory_key=\"chat_history\", return_messages=True)\n",
    "\n",
    "chat_chain = LLMChain(llm=llm, prompt=prompt, memory=memory)\n",
    "\n",
    "youtube = YouTubeSearchTool()\n",
    "\n",
    "movie_plot_vector = Neo4jVector.from_existing_index(\n",
    "    embedding_provider,\n",
    "    url=\"bolt://44.206.238.122:7687\",\n",
    "    username=\"neo4j\",\n",
    "    password=\"kilogram-acronyms-yarns\",\n",
    "    index_name=\"moviePlots\",\n",
    "    embedding_node_property=\"embedding\",\n",
    "    text_node_property=\"plot\",\n",
    ")\n",
    "\n",
    "plot_retriever = RetrievalQA.from_llm(\n",
    "    llm=llm,\n",
    "    retriever=movie_plot_vector.as_retriever(),\n",
    "    verbose=True,\n",
    "    return_source_documents=True\n",
    ")\n",
    "\n",
    "def run_retriever(query):\n",
    "    results = plot_retriever.invoke({\"query\":query})\n",
    "    # format the results\n",
    "    movies = '\\n'.join([doc.metadata[\"title\"] + \" - \" + doc.page_content for doc in results[\"source_documents\"]])\n",
    "    return movies\n",
    "\n",
    "tools = [\n",
    "    Tool.from_function(\n",
    "        name=\"Movie Chat\",\n",
    "        description=\"For when you need to chat about movies. The question will be a string. Return a string.\",\n",
    "        func=chat_chain.run,\n",
    "        return_direct=True\n",
    "    ),\n",
    "    Tool.from_function(\n",
    "        name=\"Movie Trailer Search\",\n",
    "        description=\"Use when needing to find a movie trailer. The question will include the word 'trailer'. Return a link to a YouTube video.\",\n",
    "        func=youtube.run,\n",
    "        return_direct=True\n",
    "    ),\n",
    "    Tool.from_function(\n",
    "        name=\"Movie Plot Search\",\n",
    "        description=\"For when you need to compare a plot to a movie. The question will be a string. Return a string.\",\n",
    "        func=run_retriever,\n",
    "        return_direct=True\n",
    "    )\n",
    "]\n",
    "\n",
    "agent_prompt = hub.pull(\"hwchase17/react-chat\")\n",
    "agent = create_react_agent(llm, tools, agent_prompt)\n",
    "agent_executor = AgentExecutor(\n",
    "    agent=agent,\n",
    "    tools=tools,\n",
    "    memory=memory,\n",
    "    max_interations=3,\n",
    "    verbose=True,\n",
    "    handle_parse_errors=True)\n",
    "\n",
    "while True:\n",
    "    q = input(\"> \")\n",
    "    response = agent_executor.invoke({\"input\": q})\n",
    "    print(response[\"output\"])"
   ]
  },
  {
   "cell_type": "markdown",
   "id": "822f1c11",
   "metadata": {},
   "source": []
  },
  {
   "cell_type": "markdown",
   "id": "9904ff5b-f109-4592-9f19-1c14d6557933",
   "metadata": {},
   "source": [
    "## Cypher QA Chain"
   ]
  },
  {
   "cell_type": "code",
   "execution_count": 28,
   "id": "401c6eda-550c-4840-9755-95ebd09b1d64",
   "metadata": {},
   "outputs": [
    {
     "name": "stdout",
     "output_type": "stream",
     "text": [
      "\n",
      "\n",
      "\u001b[1m> Entering new GraphCypherQAChain chain...\u001b[0m\n",
      "Generated Cypher:\n",
      "\u001b[32;1m\u001b[1;3mMATCH (a:Actor{name: \"Tom Hanks\"})-[:ACTED_IN]->(m:Movie{title: \"Toy Story\"})\n",
      "RETURN a.name, m.title, m.year, m.plot, m.runtime, m.imdbRating, m.revenue, m.budget, m.countries, m.languages, m.poster, m.imdbId, m.tmdbId, m.movieId, m.url, m.released, m.genre, m.imdbVotes, m.embedding\u001b[0m\n",
      "Full Context:\n",
      "\u001b[32;1m\u001b[1;3m[{'a.name': 'Tom Hanks', 'm.title': 'Toy Story', 'm.year': 1995, 'm.plot': \"A cowboy doll is profoundly threatened and jealous when a new spaceman figure supplants him as top toy in a boy's room.\", 'm.runtime': 81, 'm.imdbRating': 8.3, 'm.revenue': 373554033, 'm.budget': 30000000, 'm.countries': ['USA'], 'm.languages': ['English'], 'm.poster': 'https://image.tmdb.org/t/p/w440_and_h660_face/uXDfjJbdP4ijW5hWSBrPrlKpxab.jpg', 'm.imdbId': '0114709', 'm.tmdbId': '862', 'm.movieId': '1', 'm.url': 'https://themoviedb.org/movie/862', 'm.released': '1995-11-22', 'm.genre': None, 'm.imdbVotes': 591836, 'm.embedding': [-0.027105800807476044, -0.02422109991312027, 0.006039032246917486, -0.02437702938914299, -0.022557847201824188, -0.0050644706934690475, -0.013422959484159946, -0.004463491030037403, 0.0017379678320139647, -0.01712629199028015, 0.004986505955457687, -0.008030385710299015, 0.03222549706697464, -0.01233145035803318, 0.011746713891625404, 0.0213753804564476, 0.028535157442092896, -0.0007467576651833951, 0.014007695950567722, -0.014020689763128757, 0.0013668223982676864, 0.007965415716171265, -0.022388923913240433, -0.024831824004650116, 0.004518716596066952, -0.008329251781105995, 0.023558398708701134, -0.02539057284593582, 0.037189263850450516, 0.003066619858145714, 0.008654105477035046, -0.01208456140011549, 0.006100754253566265, -0.006854415405541658, -0.03290119394659996, -0.024584935978055, 0.004866309929639101, -0.028639111667871475, 0.01220150850713253, -0.005597230978310108, 0.011395871639251709, 0.03752711042761803, -0.029392771422863007, 0.00408666068688035, -0.0069778598845005035, 0.010733169503509998, 0.01730821095407009, -0.026352141052484512, -0.016047777608036995, 0.0002158247516490519, 0.01704832725226879, 0.029028935357928276, -0.03482432663440704, -0.036409612745046616, -0.008069368079304695, -0.012493877671658993, -0.02531260810792446, 0.007445649243891239, 0.01647658459842205, -0.007426158059388399, 0.0020888098515570164, 0.00818631611764431, 0.003155954647809267, 0.003333000000566244, -0.013267029076814651, 0.01580088958144188, -0.01567094773054123, -0.005974061321467161, 0.002577714854851365, -0.01233145035803318, 0.027365684509277344, 0.02591034024953842, 0.009134888648986816, 0.012838222086429596, 0.01986805908381939, -0.001991353929042816, -0.01603478379547596, 0.017139285802841187, 0.007517117075622082, 0.010986555367708206, 0.018477683886885643, -0.01733419857919216, -0.018581638112664223, 0.007445649243891239, 0.024857813492417336, 0.001724973670206964, -0.014332549646496773, 0.029106900095939636, -0.03778699412941933, 0.02419511042535305, -0.0011938377283513546, 0.009440251626074314, 0.00851116981357336, 0.010668198578059673, -0.011441350914537907, 0.00790044479072094, -0.00870608165860176, 0.020556747913360596, 0.0034661900717765093, -0.035240139812231064, 0.0007780248415656388, 0.0064321053214371204, -0.01678844541311264, 0.003123469417914748, 0.008959467522799969, 0.010759158059954643, 0.010219900868833065, -0.0009558823076076806, 0.01188964955508709, -0.004379029385745525, -0.008283771574497223, -0.000833250000141561, 0.03435653820633888, -0.036929380148649216, -0.010629216209053993, -0.01587885431945324, 0.018971461802721024, 0.009973011910915375, -0.009082912467420101, -0.005291868466883898, 0.026209205389022827, 0.026209205389022827, 0.010804637335240841, -0.007562596350908279, 0.004801339004188776, 0.01582687720656395, 0.007588584907352924, -0.016463590785861015, -0.014553450047969818, -0.011122994124889374, 0.026352141052484512, 0.02069968357682228, 0.012571842409670353, -0.0010135439224541187, -0.038020890206098557, 0.007081812713295221, -0.035110197961330414, 0.017970912158489227, -0.0010444049257785082, -0.02357139252126217, 0.011045029386878014, 0.010427807457745075, -0.009206356480717659, 0.0015942200552672148, -0.003443450201302767, 0.02354540303349495, 0.020270876586437225, 0.019010445103049278, -0.013208555988967419, 0.019595181569457054, 0.007257233839482069, 0.003664350835606456, -0.00040017926949076355, -0.01593083143234253, 0.008355239406228065, 0.00499950023368001, -0.011818181723356247, 0.0034856812562793493, -0.001374943763948977, -0.02062171883881092, -0.0012547478545457125, 0.0068479180335998535, 0.026897894218564034, 0.0026767952367663383, 0.02036183699965477, 0.020296866074204445, 0.010427807457745075, -0.0009104027994908392, 0.006763456389307976, 0.013656853698194027, 0.0020709428936243057, 0.02098555490374565, -0.019621169194579124, 0.036799438297748566, -0.012961667031049728, 0.01187665481120348, -0.00513593852519989, 0.036357637494802475, -0.02492278441786766, -0.01999800093472004, -0.043348491191864014, -0.01051876600831747, 0.004431006032973528, 0.020062969997525215, -0.007081812713295221, -0.014137637801468372, -0.02119346149265766, -0.012968163937330246, 0.007127292454242706, 0.01994602382183075, -0.005327602382749319, 0.019361287355422974, -0.026170222088694572, -0.01697036251425743, -0.6653006076812744, -0.02416912280023098, 0.00020019114890601486, -0.015917835757136345, -0.007439151871949434, 0.008127842098474503, 0.008251287043094635, 0.013013643212616444, -0.01172072533518076, 0.004054175689816475, -0.016229696571826935, 0.026871906593441963, 0.00269141374155879, -0.01642460748553276, -0.004385526292026043, 0.0034369532950222492, 0.029496725648641586, -0.028171321377158165, 0.013695836067199707, 0.005184666719287634, -0.013994702138006687, 0.022518865764141083, -0.0010525262914597988, 0.0002422191173536703, 0.017503123730421066, 0.01269528642296791, 0.033992700278759, -0.012467889115214348, -0.01741216331720352, 0.006938877049833536, -0.013500924222171307, 0.025546502321958542, -0.006919385865330696, 0.025741415098309517, 0.05873356759548187, -0.009375280700623989, -0.023870257660746574, 0.016437603160738945, 0.017269227653741837, 0.009121894836425781, -0.011142485775053501, -0.004476485308259726, 0.012890199199318886, -0.019543204456567764, -0.01040181890130043, 0.008478684350848198, 0.019829075783491135, -0.011415362358093262, -0.004447248764336109, -0.012435403652489185, 0.014527462422847748, -0.002332450356334448, 0.0100379828363657, 0.00879704114049673, 0.00786146242171526, 0.009960017167031765, 0.024623917415738106, -0.002244739793241024, -0.016853414475917816, -0.018841519951820374, 0.01603478379547596, 0.0042068567126989365, -0.011084011755883694, 0.01958218775689602, -0.0195561982691288, 0.036617521196603775, -0.008823029696941376, 0.00029967763111926615, 0.0061397370882332325, -0.026612022891640663, 0.0248448196798563, 0.029210854321718216, -0.014683391898870468, -0.0006005734903737903, 0.0016323903109878302, 0.030354339629411697, 0.036253683269023895, 0.00040830063517205417, 0.008491678163409233, -0.00011958680988755077, 0.027703532949090004, 0.012272976338863373, -0.029054924845695496, 0.0034856812562793493, 0.04009995236992836, -0.015099205076694489, 0.0006651381845586002, 0.026209205389022827, -0.0021196710877120495, -0.01619071327149868, 0.008251287043094635, 0.029418760910630226, -0.027339696884155273, -0.03235543891787529, -0.011636263690888882, -0.0035798889584839344, 0.0014252960681915283, 0.011428357101976871, 0.007049327716231346, -0.05592682957649231, -0.017139285802841187, -0.0010200409451499581, -0.02124543860554695, 0.010876105166971684, -0.0026979108806699514, 0.0052756257355213165, 0.015437052585184574, 0.03375880792737007, 0.026365134865045547, -0.043790291994810104, 0.01908840984106064, 0.007029836531728506, -0.0011134364176541567, -0.00788745004683733, -0.005629716441035271, -0.026560047641396523, 0.03147183731198311, -0.0063898744992911816, 0.03266729786992073, -0.020322853699326515, 0.007166274823248386, 0.008810034953057766, 0.01992003433406353, -0.014969263225793839, 0.011304912157356739, 0.003214428434148431, 0.00400869594886899, -0.013260532170534134, -0.02510470151901245, 0.022038081660866737, 0.0008027949370443821, -0.011129491031169891, 0.012994152493774891, -0.013929731212556362, 0.007621070370078087, 0.013604877516627312, 0.007491128519177437, -0.00243477919138968, 0.02502673678100109, -0.014124643057584763, -0.021674245595932007, 0.022388923913240433, 0.0020157177932560444, 0.013052625581622124, -0.007198760285973549, -0.026066269725561142, -0.01652856171131134, -0.002077440032735467, -0.028821028769016266, 0.012233993969857693, -0.016931381076574326, -0.006815432570874691, 0.0232855211943388, -0.01652856171131134, 0.013877754099667072, 0.006194962188601494, -0.016515567898750305, 0.00027328325086273253, 0.014098655432462692, -7.48686506995e-05, 0.014735368080437183, 0.008400719612836838, -0.028924982994794846, 0.012233993969857693, -0.014085660688579082, -0.015177169814705849, 0.006562046706676483, 0.00010131378076039255, -0.029002947732806206, -0.017477134242653847, -0.0060097952373325825, -0.03232945129275322, -0.009667648933827877, 0.011467339470982552, -0.021609274670481682, 0.018399719148874283, -0.012324953451752663, -0.012831725180149078, 0.0021862660069018602, -0.007218251470476389, -0.013929731212556362, -0.004076915327459574, 0.0106876902282238, 0.0024282822851091623, 0.027391672134399414, 0.01736018806695938, 0.03516217693686485, 0.012903193011879921, -0.018009895458817482, 0.014202608726918697, -0.003573391819372773, -0.0003930731036234647, -0.004635663703083992, -0.018308760598301888, -0.01704832725226879, -0.025429556146264076, 0.02294767275452614, 0.03768303990364075, 0.0380728654563427, 0.024701884016394615, 0.026547051966190338, -0.006441851146519184, 0.011948122642934322, -0.002358438679948449, -0.0037618069909512997, -0.022583836689591408, -0.003622120013460517, -0.014215602539479733, 0.008810034953057766, 0.0011621644953265786, 0.016983356326818466, -0.014878303743898869, 0.007653555832803249, -0.01587885431945324, 0.04940376803278923, 0.010018491186201572, -0.00949222780764103, 0.008673596195876598, -0.017607076093554497, 0.005470538046211004, -0.011187965050339699, -0.015268128365278244, 0.021518316119909286, 0.004846818745136261, -0.014228596352040768, -0.002194387372583151, 0.013513918034732342, -0.018074866384267807, -0.002738517476245761, -0.04020390659570694, -0.0027222749777138233, -0.008368234150111675, -0.006795941386371851, 0.021362386643886566, -0.011025537736713886, 0.001788320136256516, 0.00033723886008374393, -0.0077964914962649345, 0.04210105165839195, 1.5468624042114243e-05, 0.006438602227717638, 0.022220000624656677, 0.03516217693686485, -0.014514467678964138, -0.01639861986041069, 0.013098105788230896, 0.013332000002264977, 0.015437052585184574, -0.012610824778676033, 0.012987654656171799, -0.014319555833935738, -0.007276725023984909, -0.010427807457745075, 0.02492278441786766, 0.002686541061848402, 0.0018013142980635166, 0.01567094773054123, -0.016099754720926285, 0.022869708016514778, 0.017737017944455147, -0.0038657602854073048, 0.0043920231983065605, 0.014345544390380383, 0.01676245592534542, 0.03459043428301811, 0.008290269412100315, -0.002283722162246704, -0.01652856171131134, 0.006097505800426006, 0.022908689454197884, -0.016619520261883736, 0.04051576554775238, 0.004323804285377264, -0.01898445561528206, -0.0029919035732746124, -0.002608576091006398, -0.01629466749727726, 0.009810584597289562, 0.01564495824277401, 6.0148711781948805e-05, -0.002912314375862479, -0.045141685754060745, 0.011525812558829784, 0.01704832725226879, -0.00038738816510885954, 0.01072667259722948, -0.035500023514032364, 0.015346094034612179, 0.004499224945902824, 0.03490229323506355, -0.016697484999895096, 0.003220925573259592, 0.01746414043009281, 0.005113198887556791, 0.005249637644737959, -0.006181967910379171, -0.0028733317740261555, -0.014722374267876148, 0.006594532169401646, -0.028119346126914024, 0.015515017323195934, 0.0002261794579681009, -0.02093357965350151, -0.02520865574479103, 0.0033752310555428267, 0.01554100587964058, -0.0068739065900444984, -0.026365134865045547, -0.011480333283543587, -0.0023795540910214186, -0.007296216208487749, -0.018711579963564873, -0.018074866384267807, -0.0005774276214651763, 0.0015763530973345041, -0.01031085941940546, -0.013916736468672752, -0.002254485385492444, 0.0326932854950428, 0.0036058772820979357, -0.004096406511962414, 0.0010281623108312488, -0.00792643241584301, 0.016333648934960365, 0.10686390846967697, 0.0003352085186634213, 0.0068674092181026936, -0.007081812713295221, -0.014332549646496773, -0.01681443303823471, -0.024364035576581955, -0.003107226686552167, 0.0347723513841629, -0.0102328946813941, -0.012467889115214348, -0.022466888651251793, 0.03867059573531151, 0.013241041451692581, 0.010928082279860973, -0.0054867807775735855, -0.00266217696480453, 0.0021797691006213427, 0.0036968362983316183, -0.029912538826465607, -0.008946473710238934, 0.009641661308705807, -0.005451046861708164, -0.0014342295471578836, -0.011961117386817932, -0.04688290134072304, 0.0052561345510184765, 0.043764304369688034, -0.0025403567124158144, -0.035110197961330414, -0.011597280390560627, -0.017775999382138252, -0.01603478379547596, -0.0008957843529060483, -0.008900994434952736, 0.003459692932665348, 0.007231245748698711, 0.01906242035329342, 0.026040280237793922, -0.006295666564255953, 0.030848117545247078, 0.007094806991517544, 0.01044080127030611, -0.0012287595309317112, -0.0022756007965654135, 0.011415362358093262, -0.006724473554641008, 0.026897894218564034, -0.0022609825246036053, -0.036305662244558334, 0.030640210956335068, -0.004024938680231571, -0.0068933977745473385, 0.0019978508353233337, 0.02051776647567749, -0.011811683885753155, 0.004957268945872784, -0.010772151872515678, -0.00503848260268569, -0.0064515965059399605, -0.01911439746618271, -0.017996899783611298, -0.0054413010366261005, -0.008010894991457462, -0.002728771883994341, -0.044985756278038025, -0.0031721973791718483, 0.00018313633336219937, 0.00538282748311758, -0.024286070838570595, 0.004661652259528637, -0.0106876902282238, -0.017983905971050262, -0.009615672752261162, 0.007523613981902599, 0.001656754408031702, 0.010148433037102222, -0.0388525165617466, -0.0019978508353233337, 0.0052106548100709915, -0.017814982682466507, -0.027547601610422134, 0.0072897193022072315, -0.03365485370159149, 0.007016842253506184, -0.011019040830433369, 0.008361737243831158, 0.008400719612836838, -0.018607625737786293, 0.008875005878508091, 0.020374830812215805, 0.016645509749650955, 0.009479233995079994, -0.019517216831445694, 0.025221649557352066, -0.012896696105599403, -0.0031933127902448177, 0.014553450047969818, 0.008732070215046406, 0.01590484194457531, -0.015787893906235695, -0.010739666409790516, -0.014969263225793839, 0.005373082123696804, -0.003963216207921505, -0.00396971357986331, -0.00402818713337183, 0.0010606476571410894, -0.015437052585184574, 0.011142485775053501, -0.022648807615041733, -0.007893946953117847, -0.00017694380949251354, -0.009290819056332111, 0.01015492994338274, -0.004580438602715731, -0.007348192855715752, 0.027313707396388054, 0.014436502940952778, -0.011077514849603176, -0.002264230977743864, -0.021492328494787216, 0.005431555677205324, 0.035655952990055084, -0.017555098980665207, 0.006227447185665369, 0.009732619859278202, -0.022999649867415428, -0.012350942008197308, 0.01720425672829151, -0.010044479742646217, -0.011707731522619724, -0.012402918189764023, -0.0024282822851091623, -0.03381078317761421, -0.007348192855715752, -0.015346094034612179, -0.003943725023418665, 0.013033134862780571, -0.026495076715946198, -0.008654105477035046, -0.011460842564702034, -0.000864923233166337, -0.036929380148649216, 0.014605427160859108, -0.025195660069584846, -0.026066269725561142, 0.018321754410862923, -0.009024438448250294, 0.017840970307588577, -0.015359087847173214, 0.019595181569457054, -0.03420060873031616, 0.016645509749650955, 0.018737567588686943, -0.044647905975580215, -0.013169573619961739, 0.004252336453646421, 0.01007696520537138, 0.014475485309958458, 0.04090559110045433, -0.00295941811054945, 0.015917835757136345, -0.006383377127349377, 0.004223099444061518, -0.000586767157074064, 0.015112198889255524, 0.0010573990875855088, -0.027625568211078644, 0.017477134242653847, 0.0316537544131279, 0.007023339159786701, 0.022791743278503418, 0.010668198578059673, 0.01557998824864626, 0.01629466749727726, 0.015203158371150494, -0.011571292765438557, -0.014878303743898869, 0.011493327096104622, 0.003622120013460517, -0.02359738014638424, -0.004073666874319315, -0.01053176075220108, -0.020764654502272606, -0.007211754564195871, 0.028301263228058815, 0.0060942573472857475, -0.0023243289906531572, -0.007380678318440914, 0.020634712651371956, -0.01911439746618271, 0.02325953170657158, 0.0016267054015770555, 0.008641110733151436, -0.0030081463046371937, -0.009076415561139584, 0.014098655432462692, 0.011701233685016632, 2.0887084247078747e-05, 0.005226897541433573, 0.020660702139139175, -0.018269777297973633, 0.0068479180335998535, 0.0021570292301476, 0.04306261986494064, 0.001171097974292934, -0.011792193166911602, 0.015943825244903564, -0.025949321687221527, -0.027313707396388054, -0.043894246220588684, -0.019361287355422974, -0.03828077390789986, -0.029574690386652946, -0.021258432418107986, -0.014683391898870468, 0.007906941697001457, -0.028898993507027626, -0.0316537544131279, 0.00402818713337183, -0.012279474176466465, 0.03238142654299736, 0.019153380766510963, 0.014995251782238483, 0.030146433040499687, -0.03919036313891411, 0.004993002861738205, 0.017477134242653847, 0.0003827183973044157, -0.010141936130821705, 0.014098655432462692, 0.004440751392394304, -8.628929208498448e-06, 0.009498725645244122, 0.0027336447965353727, -0.018451696261763573, -0.03796891123056412, -0.04345244541764259, -0.0031445848289877176, -0.008153830654919147, 0.00047753509716130793, -0.04277674853801727, -0.012350942008197308, 0.0030016491655260324, 0.01632065512239933, -0.029522713273763657, -0.006782947573810816, -0.007075315807014704, -0.035084210336208344, -0.021206457167863846, -0.0038495175540447235, -0.0010330351069569588, 0.008244789205491543, 0.006272926926612854, -0.01694437488913536, 0.016333648934960365, -0.009609175845980644, 0.011350391432642937, 0.003748812945559621, -0.019803088158369064, 0.029132889583706856, -0.002446149243041873, 0.01055774837732315, 0.009518216364085674, 0.0021570292301476, 0.006886900402605534, -9.715159103507176e-05, 0.017672047019004822, 0.026391122490167618, 0.0014155504759401083, 0.008894497528672218, -0.013104602694511414, 0.011805186979472637, 0.006860912311822176, 0.006022789515554905, -0.009225848130881786, -0.014657403342425823, 0.010622719302773476, -0.010018491186201572, 0.01730821095407009, 0.009349292144179344, -0.0013107850681990385, -0.01895846799015999, -0.009128391742706299, 0.004128891974687576, -0.022921685129404068, 0.0076925382018089294, 0.005535508971661329, -0.0007776187849231064, -0.004193862434476614, -0.0008852265891619027, -0.006081263069063425, 0.019309310242533684, 0.00035936952917836607, 0.004651906434446573, 0.017503123730421066, 0.022297965362668037, -0.022661801427602768, 0.01624269038438797, -0.019517216831445694, 0.015437052585184574, -0.021180467680096626, -0.003907991107553244, 0.017750011757016182, -0.010544754564762115, 0.021180467680096626, -0.022232994437217712, -0.019257333129644394, 0.004011944402009249, 0.005103453062474728, -0.0068739065900444984, -0.003553900634869933, -0.0005640274030156434, 0.0015008245827630162, 0.01678844541311264, -0.0015625468222424388, -0.03232945129275322, -0.019959017634391785, 0.00838122796267271, 0.009648158214986324, -0.012383426539599895, 0.01557998824864626, -0.0006716352654621005, -0.0020595730748027563, -0.029938526451587677, 0.017801988869905472, -0.002535484032705426, -0.012883702293038368, 0.001166225178167224, -0.014332549646496773, 0.0023649355862289667, -0.014072666876018047, -0.02033584751188755, -0.03326502814888954, -0.005405567120760679, -0.005805137567222118, 0.02129741571843624, 0.0011231820099055767, -0.0007780248415656388, 0.009979508817195892, 0.021830175071954727, -0.0021489078644663095, 0.021947123110294342, 0.010993052273988724, -0.016866410151124, 0.026001298800110817, -0.035136185586452484, -0.025663450360298157, -0.018607625737786293, -0.011038532480597496, -0.0014983881264925003, -0.0025306111201643944, -0.028821028769016266, -0.012688789516687393, 0.01746414043009281, -0.021310409530997276, 0.003199809929355979, -0.022051075473427773, 0.02038782462477684, 0.030302362516522408, -0.012688789516687393, 0.005230146460235119, 0.020530760288238525, -0.003220925573259592, 0.02502673678100109, 0.0006736655486747622, -0.008004398085176945, -0.008952970616519451, -0.007478134706616402, 0.00845919270068407, 0.026534058153629303, -0.003056874265894294, -0.026378128677606583, 0.017191262915730476, 0.010122444480657578, 0.007016842253506184, 0.0019215102074667811, 0.003891748609021306, -0.028041379526257515, -0.036643508821725845, 0.007880953140556812, 0.018048876896500587, -0.0020157177932560444, -0.004937777761369944, -0.01736018806695938, -0.001994602382183075, 0.0024039181880652905, 0.008952970616519451, -0.015034234151244164, -0.020036982372403145, -0.004281572997570038, -0.006568544078618288, -0.007835473865270615, -0.010239391587674618, -0.005792143288999796, -0.009875555522739887, -0.006880403496325016, 0.01580088958144188, -0.008153830654919147, -0.000862486835103482, 0.007036333438009024, 0.014904292300343513, -0.016645509749650955, -0.022739766165614128, 0.013513918034732342, 0.004216602537781, -0.00106876902282238, -0.022531859576702118, -0.013435953296720982, 0.01034984178841114, 0.011675246059894562, -0.0030779896769672632, -0.01968614012002945, 0.004343295469880104, -0.011012543924152851, 0.017918935045599937, -0.036981355398893356, 0.03342095762491226, 0.01684042066335678, -0.028327250853180885, 0.0028343494050204754, -0.0037130790296941996, -0.003959967754781246, -0.016983356326818466, -0.0024575190618634224, 0.00028810472576878965, -0.016879403963685036, -0.022401917725801468, -0.017931930720806122, -0.011051526293158531, -0.01950422301888466, 0.019751111045479774, 0.0018565395148470998, -0.005587485618889332, 0.025637462735176086, 0.24096356332302094, -0.013409964740276337, -0.003784546861425042, 0.027443649247288704, -0.002912314375862479, -0.0011166849872097373, 0.02318156696856022, -0.003524663858115673, -0.03396671265363693, -0.0026378128677606583, -0.005512768868356943, 0.015060222707688808, 0.004905292298644781, 0.007231245748698711, -0.01707431674003601, -0.014085660688579082, -0.009355789981782436, -0.0037910437677055597, -0.01953021064400673, -0.023168573155999184, 0.03162776678800583, -0.015034234151244164, 0.013267029076814651, -0.03188765048980713, 0.025845369324088097, -0.01678844541311264, -0.014384526759386063, -0.01265630405396223, 0.007426158059388399, 0.01702233962714672, -0.010070468299090862, -0.02409115806221962, -0.004690888803452253, -0.02544254995882511, -0.018646609038114548, -0.009251836687326431, -0.017931930720806122, -0.002842470770701766, 0.012591333128511906, -0.002205757424235344, -0.0031527061946690083, 0.0016600029775872827, 0.007815982215106487, -0.0001574525813339278, 0.013370982371270657, 0.014800339005887508, -0.015242140740156174, 0.00818631611764431, -0.0006273739272728562, 0.02010195329785347, -0.04883202537894249, -0.02297366037964821, 0.027625568211078644, 0.03544804826378822, 0.0011881528189405799, 0.013721824623644352, 0.029392771422863007, 0.0063249035738408566, 0.001384689356200397, -0.0022723523434251547, -0.008693087846040726, 0.01587885431945324, -0.018880503252148628, 0.0031185965053737164, -0.013825777918100357, 0.03222549706697464, -0.007945924066007137, 0.003690339159220457, 0.019179368391633034, -0.01253935694694519, 0.00580188911408186, -0.004882552661001682, -0.021479332819581032, -0.003034134628251195, -0.009498725645244122, -0.01741216331720352, 0.014774351380765438, -0.00041865534149110317, -0.02049177698791027, 0.013968713581562042, -0.014488480053842068, -0.011097005568444729, -0.003787795314565301, -0.010882602073252201, 0.0042718276381492615, -0.03414863348007202, 0.02036183699965477, -0.01606077142059803, -0.007413163781166077, -0.0019247587770223618, -0.0013254035729914904, -0.006750462111085653, -0.0033589883241802454, -0.015268128365278244, 0.002592333359643817, 0.010018491186201572, 0.011584286577999592, 0.0227657537907362, 0.00822529848664999, -0.011824678629636765, -0.0169963501393795, -0.011226947419345379, 0.027885450050234795, 0.001887400634586811, -0.02510470151901245, -0.002631315728649497, 0.0028635861817747355, -0.002332450356334448, 0.01676245592534542, 0.01585286483168602, -0.0073351990431547165, -0.024416012689471245, 0.004054175689816475, -0.02370133437216282, -0.006704982370138168, 0.016749462112784386, 0.028691088780760765, -0.0006480833399109542, 0.029392771422863007, -0.027625568211078644, 0.018477683886885643, 0.011616772040724754, 0.022142035886645317, 0.021128490567207336, 0.005395821761339903, -0.03999600186944008, -0.006337897852063179, 0.01691838540136814, 0.008251287043094635, -0.016385626047849655, 0.007179269101470709, -0.022648807615041733, 0.01678844541311264, 0.0072247483767569065, -0.0008275650907307863, 0.006737467832863331, 0.008205806836485863, 0.011746713891625404, 0.002259358298033476, 0.03331700712442398, 0.02429906465113163, 0.007776999846100807, -0.00973911676555872, 0.006370382849127054, 0.02383127436041832, -0.014605427160859108, 0.015320105478167534, -0.017892947420477867, -0.0015609224792569876, -0.01585286483168602, -0.025039730593562126, -0.01155180111527443, -0.001166225178167224, -0.006065020337700844, 0.012649807147681713, -0.013929731212556362, -0.017931930720806122, -0.03134189546108246, -0.022726772353053093, 0.009342795237898827, -0.027729520574212074, 0.0015820380067452788, 0.011038532480597496, 0.017399169504642487, -0.0052561345510184765, -0.00013684466830454767, -0.165805384516716, 0.015320105478167534, 0.025247637182474136, -0.021557297557592392, 0.013942725025117397, -0.007874456234276295, 0.004586935508996248, 0.016151731833815575, -0.013383977115154266, -0.010512269102036953, 0.00830326322466135, 0.008485181257128716, -0.015943825244903564, 0.0005494090146385133, 0.0014642785536125302, 0.009427257813513279, -0.01624269038438797, -0.0066172718070447445, -0.0026686741039156914, 0.019803088158369064, 0.015683941543102264, 0.007744514849036932, -0.0021878904663026333, 0.0036935878451913595, -0.006925883237272501, 0.01971212960779667, 0.006549052894115448, 0.021726222708821297, -0.016905391588807106, -0.004560947418212891, -0.018373731523752213, -0.023636363446712494, 0.006659503094851971, 0.02075166068971157, 0.020348841324448586, 0.004223099444061518, -0.009635163471102715, -0.009719626046717167, -0.010304362513124943, 0.01898445561528206, 0.005701184272766113, 0.02411714568734169, 0.022921685129404068, 0.011155479587614536, 0.0016827427316457033, 0.03188765048980713, 0.01929631642997265, 0.019829075783491135, 0.011870157904922962, -0.026274176314473152, 0.008062871173024178, -0.03240741416811943, -0.021947123110294342, 0.001384689356200397, 0.012799239717423916, 0.02294767275452614, 0.018581638112664223, 0.036669496446847916, -0.004249087534844875, -0.007029836531728506, -0.003927482292056084, -0.02515667863190174, 0.014228596352040768, -0.014917287044227123, -0.037579089403152466, -0.01908840984106064, 0.01746414043009281, 0.006480833515524864, -0.036201708018779755, -0.00020486093126237392, -0.00986905861645937, 0.014046678319573402, 0.0015073216054588556, -0.0006968114175833762, -0.014605427160859108, 0.018841519951820374, -0.002455894835293293, 0.013838771730661392, 0.013786795549094677, -0.0036481081042438745, -0.008179819211363792, 0.018594631925225258, 0.007328701671212912, -0.03404467925429344, -0.0013343370519578457, 0.01764605939388275, -0.009225848130881786, -0.014046678319573402, -0.0248448196798563, -0.0310040470212698, 0.001448035822249949, -0.03292718157172203, -0.01895846799015999, -0.013955719769001007, -0.015489029698073864, 0.019699133932590485, -0.0035409063566476107, -0.006568544078618288, 0.03219950944185257, 0.013182567432522774, 0.004651906434446573, -0.017568092793226242, 0.0028002397157251835, 0.0034466988872736692, 0.006945374421775341, 0.025715427473187447, -0.0100379828363657, 0.011863660998642445, 0.02150532230734825, -0.021908139809966087, -0.005369833204895258, 0.011343894526362419, 0.006769953295588493, 0.02349342778325081, -0.0031429606024175882, 0.028950970619916916, 0.015437052585184574, 0.0013595131458714604, 0.024286070838570595, 0.00216677482239902, 0.04672697186470032, 0.004431006032973528, -0.024416012689471245, 0.008413713425397873, -0.0116427605971694, 0.0021554050035774708, -0.10010694712400436, -0.01720425672829151, 0.007841970771551132, 0.007880953140556812, -0.022440901026129723, 0.01712629199028015, -0.016099754720926285, 0.006341146305203438, 0.008745064027607441, 0.03947623446583748, 0.02437702938914299, -0.03232945129275322, -0.007569093722850084, -0.022181017324328423, 0.017607076093554497, -0.029002947732806206, 0.0057174270041286945, -0.0022090058773756027, -0.01580088958144188, 0.012818731367588043, 0.004716877359896898, 0.005373082123696804, -0.020010994747281075, 0.00293018133379519, 0.015112198889255524, 0.0028051126282662153, -0.022622818127274513, 0.013078614138066769, 0.009979508817195892, 0.004664900712668896, -0.0006732594920322299, -0.01011594757437706, 0.011084011755883694, -0.011252935975790024, -0.027625568211078644, 0.019621169194579124, -0.03279723972082138, -0.007036333438009024, 0.02401319332420826, -0.03227747231721878, -0.008920485153794289, 0.009212854318320751, -0.01611274853348732, -0.006743964739143848, -0.014306561090052128, -0.012857713736593723, 0.0016356388805434108, 0.016463590785861015, 0.00845919270068407, -0.025754408910870552, -0.026612022891640663, -0.010304362513124943, 0.0021878904663026333, 0.005558248609304428, 0.034980256110429764, 0.021687239408493042, 0.014098655432462692, 0.009206356480717659, -0.003220925573259592, 0.012890199199318886, -0.010395321995019913, 0.003907991107553244, -0.009836573153734207, 0.005931830499321222, -0.0008080738480202854, 0.004405017476528883, 0.006964865606278181, 0.003891748609021306, 0.0169963501393795, -0.01924433931708336, -0.0468309260904789, 0.014371532015502453, -0.029340796172618866, 0.00212779245339334, -0.01950422301888466, -0.015709929168224335, -0.009505222551524639, -0.022505871951580048, 0.01702233962714672, -0.030718175694346428, 0.004892298486083746, -0.025299614295363426, 0.023142585530877113, -0.0036156228743493557, 0.026443099603056908, 0.008894497528672218, -0.017853964120149612, -0.009173871017992496, -0.008335748687386513, -0.00158853514585644, -0.014943274669349194, 0.0016315781977027655, -0.009648158214986324, -0.011779199354350567, -0.014891298487782478, 0.018672596663236618, -0.014774351380765438, -0.0005583424936048687, 0.010148433037102222, -0.007426158059388399, -0.00810835137963295, -0.002181393327191472, -0.05597880855202675, 0.017607076093554497, 0.018451696261763573, 0.007906941697001457, -0.0007759945001453161, -0.01619071327149868, 0.04163326323032379, -0.020946573466062546, 0.005964315962046385, -0.008322754874825478, -0.013098105788230896, 0.022440901026129723, -0.011766204610466957, 0.008160327561199665, -0.024961765855550766, -0.014111649245023727, 0.018386725336313248, 0.006061771884560585, 0.004651906434446573, -0.00020100329129491001, -0.005548502784222364, 0.003263156395405531, 0.0038267779164016247, 0.020062969997525215, -0.014202608726918697, 0.029028935357928276, 0.01702233962714672, 0.021557297557592392, -0.00641261413693428, -0.01934829168021679, 0.018802538514137268, -0.036721475422382355, -0.009089409373700619, 0.0025013743434101343, 0.0021878904663026333, -0.02033584751188755, -0.00777050293982029, 0.016723474487662315, 0.021102502942085266, 0.01940026879310608, -0.019465239718556404, -0.027677543461322784, 0.01006397046148777, -0.035110197961330414, 0.011408865451812744, 0.006834924221038818, -0.0017265980131924152, 0.007575590629130602, 0.0316537544131279, 0.002465640427544713, 0.012311958707869053, 0.02515667863190174, 0.0028895745053887367, 0.0021570292301476, -0.0013440826442092657, -0.022077064961194992, 0.03344694897532463, -0.03830676153302193, -0.005464041139930487, 0.0018890248611569405, 0.006571792531758547, 0.00021887024922762066, 0.006133239716291428, -0.010388825088739395, 0.014371532015502453, 0.002390923909842968, -0.014579438604414463, 0.006594532169401646, 0.022518865764141083, 0.001294542453251779, -0.005100204609334469, -0.012584836222231388, 0.005239891819655895, -0.025377579033374786, 0.004213353618979454, -0.003566894680261612, -0.013332000002264977, 0.017191262915730476, -0.03438252583146095, 0.004954020492732525, 0.016099754720926285, 0.002215503016486764, -0.030614223331212997, 0.00242503359913826, 0.018724573776125908, 0.03186166286468506, -0.018607625737786293, 0.010148433037102222, 0.005022239871323109, 0.0026037031784653664, -0.006717976648360491, 0.0004698198172263801, -0.00513593852519989, -0.004573941696435213, 0.016801439225673676, 0.0424908772110939, -0.027417661622166634, -0.006604277994483709, 0.04285471513867378, -0.0021992602851241827, 0.0011012543691322207, -0.017944924533367157, -0.002402293961495161, -0.015631964430212975, -0.005967564415186644, 0.008426707237958908, -0.026027286425232887, -0.0026686741039156914, -0.007172772195190191, 0.010882602073252201, 0.012974660843610764, -0.009420759975910187, 0.004031435586512089, 0.004557698965072632, -0.0034239590167999268, 0.01027187705039978, -0.014111649245023727, -0.007101304363459349, -0.019621169194579124, 0.022960666567087173, 0.0011191213270649314, 0.013332000002264977, -0.0015389948384836316, -0.006591283716261387, 0.025741415098309517, 0.00999900046736002, 0.0015576740261167288, -0.022726772353053093, -0.004414763301610947, -0.006097505800426006, 0.029340796172618866, -0.007127292454242706, -0.018724573776125908, 0.021024538204073906, 0.019166374579072, -0.006266430020332336, -0.01642460748553276, 0.043218549340963364, -0.016879403963685036, 0.019439252093434334, -0.0031039780005812645, 0.0016047777608036995, 0.01741216331720352, -0.009024438448250294, 0.013851766474545002, 0.02429906465113163, 0.008959467522799969, -0.031056024134159088, -0.00814733374863863, -0.0016892397543415427, 0.009706631302833557, 0.022453894838690758, 0.014696385711431503, 0.003175445832312107, 0.009277824312448502, -0.019751111045479774, 0.0008373106829822063, -0.017788995057344437, -0.005360087845474482, 0.015099205076694489, -0.021973110735416412, 0.027521613985300064, -0.011090508662164211, -0.019361287355422974, -0.003019516123458743, 0.013734818436205387, 0.017957918345928192, -0.003797540906816721, -0.03313508629798889, 0.00851116981357336, 0.0036123741883784533, 0.002886326052248478, -0.01057074312120676, 0.005610225256532431, 0.0024364034179598093, -0.029652655124664307, 0.0013124094111844897, -0.0028392223175615072, 0.0008312196587212384, 0.0035701433662325144, 0.028405217453837395, -0.02380528673529625, -0.006691988557577133, 0.020166924223303795, 0.01707431674003601, 0.027625568211078644, -0.013617871329188347, -0.021622268483042717]}]\u001b[0m\n",
      "\n",
      "\u001b[1m> Finished chain.\u001b[0m\n"
     ]
    },
    {
     "data": {
      "text/plain": [
       "{'query': 'What role did Tom Hanks play in Toy Story?',\n",
       " 'result': 'Tom Hanks played the role of Woody in Toy Story.'}"
      ]
     },
     "execution_count": 28,
     "metadata": {},
     "output_type": "execute_result"
    }
   ],
   "source": [
    "from langchain_openai import ChatOpenAI\n",
    "from langchain_community.graphs import Neo4jGraph\n",
    "from langchain.chains import GraphCypherQAChain\n",
    "from langchain.prompts import PromptTemplate\n",
    "\n",
    "llm = ChatOpenAI(\n",
    "    openai_api_key=\"#\"\n",
    ")\n",
    "\n",
    "\n",
    "graph = Neo4jGraph(\n",
    "    url=\"bolt://44.206.238.122:7687\",\n",
    "    username=\"neo4j\",\n",
    "    password=\"kilogram-acronyms-yarns\"\n",
    ")\n",
    "\n",
    "CYPHER_GENERATION_TEMPLATE = \"\"\"\n",
    "You are an expert Neo4j Developer translating user questions into Cypher to answer questions about movies and provide recommendations.\n",
    "Convert the user's question based on the schema.\n",
    "\n",
    "Schema: {schema}\n",
    "Question: {question}\n",
    "\"\"\"\n",
    "\n",
    "cypher_generation_prompt = PromptTemplate(\n",
    "    template=CYPHER_GENERATION_TEMPLATE,\n",
    "    input_variables=[\"schema\", \"question\"],\n",
    ")\n",
    "\n",
    "cypher_chain = GraphCypherQAChain.from_llm(\n",
    "    llm,\n",
    "    graph=graph,\n",
    "    cypher_prompt=cypher_generation_prompt,\n",
    "    verbose=True\n",
    ")\n",
    "\n",
    "cypher_chain.invoke({\"query\": \"What role did Tom Hanks play in Toy Story?\"})"
   ]
  },
  {
   "cell_type": "markdown",
   "id": "3c0a4971-de10-4422-846d-e0df0620fc29",
   "metadata": {},
   "source": [
    "## My cert\n",
    "- https://graphacademy.neo4j.com/c/633337ab-1c92-45fd-9096-a5cda884fc87/\n",
    "- "
   ]
  },
  {
   "cell_type": "code",
   "execution_count": null,
   "id": "5d4fb41a-1513-47f7-905d-d45294060db4",
   "metadata": {},
   "outputs": [],
   "source": []
  },
  {
   "cell_type": "code",
   "execution_count": null,
   "id": "6b49660e-6a65-454b-9139-b90f283cb40b",
   "metadata": {},
   "outputs": [],
   "source": []
  }
 ],
 "metadata": {
  "kernelspec": {
   "display_name": "Python 3 (ipykernel)",
   "language": "python",
   "name": "python3"
  },
  "language_info": {
   "codemirror_mode": {
    "name": "ipython",
    "version": 3
   },
   "file_extension": ".py",
   "mimetype": "text/x-python",
   "name": "python",
   "nbconvert_exporter": "python",
   "pygments_lexer": "ipython3",
   "version": "3.10.12"
  }
 },
 "nbformat": 4,
 "nbformat_minor": 5
}
