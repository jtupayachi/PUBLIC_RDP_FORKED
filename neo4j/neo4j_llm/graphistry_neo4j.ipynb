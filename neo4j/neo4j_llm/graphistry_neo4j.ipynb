{
 "cells": [
  {
   "cell_type": "markdown",
   "id": "1d56ce4c-0799-400c-8fc5-fc6fb140b7b3",
   "metadata": {},
   "source": [
    "# Ref\n",
    "- https://github.com/graphistry/pygraphistry/blob/master/demos/demos_databases_apis/neo4j/official/graphistry_bolt_tutorial_public.ipynb\n",
    "- https://github.com/graphistry/pygraphistry\n",
    "\n",
    "# This one is good too\n",
    "- https://www.yworks.com/neo4j-explorer/\n",
    "- "
   ]
  },
  {
   "cell_type": "code",
   "execution_count": 1,
   "id": "7294d3b7-99cb-46f3-8d29-8af81b4f9e9d",
   "metadata": {},
   "outputs": [
    {
     "name": "stdout",
     "output_type": "stream",
     "text": [
      "Collecting graphistry[bolt]\n",
      "  Downloading graphistry-0.33.7-py3-none-any.whl.metadata (69 kB)\n",
      "\u001b[2K     \u001b[90m━━━━━━━━━━━━━━━━━━━━━━━━━━━━━━━━━━━━━━━━\u001b[0m \u001b[32m69.5/69.5 kB\u001b[0m \u001b[31m2.0 MB/s\u001b[0m eta \u001b[36m0:00:00\u001b[0m\n",
      "\u001b[?25hRequirement already satisfied: numpy in /home/xli27/.local/lib/python3.10/site-packages (from graphistry[bolt]) (1.26.4)\n",
      "Collecting palettable>=3.0 (from graphistry[bolt])\n",
      "  Downloading palettable-3.3.3-py2.py3-none-any.whl.metadata (3.3 kB)\n",
      "Requirement already satisfied: pandas in /home/xli27/.local/lib/python3.10/site-packages (from graphistry[bolt]) (2.2.1)\n",
      "Requirement already satisfied: pyarrow>=0.15.0 in /home/xli27/.local/lib/python3.10/site-packages (from graphistry[bolt]) (15.0.1)\n",
      "Requirement already satisfied: requests in /home/xli27/.local/lib/python3.10/site-packages (from graphistry[bolt]) (2.31.0)\n",
      "Collecting squarify (from graphistry[bolt])\n",
      "  Downloading squarify-0.4.3-py3-none-any.whl.metadata (540 bytes)\n",
      "Requirement already satisfied: typing-extensions in /home/xli27/.local/lib/python3.10/site-packages (from graphistry[bolt]) (4.10.0)\n",
      "Requirement already satisfied: packaging>=20.1 in /home/xli27/.local/lib/python3.10/site-packages (from graphistry[bolt]) (23.2)\n",
      "Requirement already satisfied: setuptools in /usr/lib/python3/dist-packages (from graphistry[bolt]) (59.6.0)\n",
      "Requirement already satisfied: neo4j in /home/xli27/.local/lib/python3.10/site-packages (from graphistry[bolt]) (5.19.0)\n",
      "Collecting neotime (from graphistry[bolt])\n",
      "  Downloading neotime-1.7.4.tar.gz (17 kB)\n",
      "  Preparing metadata (setup.py) ... \u001b[?25ldone\n",
      "\u001b[?25hRequirement already satisfied: pytz in /home/xli27/.local/lib/python3.10/site-packages (from neo4j->graphistry[bolt]) (2024.1)\n",
      "Requirement already satisfied: six in /usr/lib/python3/dist-packages (from neotime->graphistry[bolt]) (1.16.0)\n",
      "Requirement already satisfied: python-dateutil>=2.8.2 in /home/xli27/.local/lib/python3.10/site-packages (from pandas->graphistry[bolt]) (2.9.0.post0)\n",
      "Requirement already satisfied: tzdata>=2022.7 in /home/xli27/.local/lib/python3.10/site-packages (from pandas->graphistry[bolt]) (2024.1)\n",
      "Requirement already satisfied: charset-normalizer<4,>=2 in /home/xli27/.local/lib/python3.10/site-packages (from requests->graphistry[bolt]) (3.3.2)\n",
      "Requirement already satisfied: idna<4,>=2.5 in /home/xli27/.local/lib/python3.10/site-packages (from requests->graphistry[bolt]) (3.6)\n",
      "Requirement already satisfied: urllib3<3,>=1.21.1 in /home/xli27/.local/lib/python3.10/site-packages (from requests->graphistry[bolt]) (2.2.1)\n",
      "Requirement already satisfied: certifi>=2017.4.17 in /home/xli27/.local/lib/python3.10/site-packages (from requests->graphistry[bolt]) (2024.2.2)\n",
      "Downloading palettable-3.3.3-py2.py3-none-any.whl (332 kB)\n",
      "\u001b[2K   \u001b[90m━━━━━━━━━━━━━━━━━━━━━━━━━━━━━━━━━━━━━━━━\u001b[0m \u001b[32m332.3/332.3 kB\u001b[0m \u001b[31m7.7 MB/s\u001b[0m eta \u001b[36m0:00:00\u001b[0ma \u001b[36m0:00:01\u001b[0m\n",
      "\u001b[?25hDownloading graphistry-0.33.7-py3-none-any.whl (250 kB)\n",
      "\u001b[2K   \u001b[90m━━━━━━━━━━━━━━━━━━━━━━━━━━━━━━━━━━━━━━━━\u001b[0m \u001b[32m250.4/250.4 kB\u001b[0m \u001b[31m45.9 MB/s\u001b[0m eta \u001b[36m0:00:00\u001b[0m\n",
      "\u001b[?25hDownloading squarify-0.4.3-py3-none-any.whl (4.3 kB)\n",
      "Building wheels for collected packages: neotime\n",
      "  Building wheel for neotime (setup.py) ... \u001b[?25ldone\n",
      "\u001b[?25h  Created wheel for neotime: filename=neotime-1.7.4-py3-none-any.whl size=20562 sha256=9f84ee9a29d9f43b0d9116774f2f5f435604326540a551dbbd49e54d217b4df1\n",
      "  Stored in directory: /home/xli27/.cache/pip/wheels/d2/2b/8b/b670993d080dbf370357e12443fad4bcbeb0ebe36390aff925\n",
      "Successfully built neotime\n",
      "Installing collected packages: squarify, palettable, neotime, graphistry\n",
      "Successfully installed graphistry-0.33.7 neotime-1.7.4 palettable-3.3.3 squarify-0.4.3\n",
      "Requirement already satisfied: pandas in /home/xli27/.local/lib/python3.10/site-packages (2.2.1)\n",
      "Requirement already satisfied: numpy<2,>=1.22.4 in /home/xli27/.local/lib/python3.10/site-packages (from pandas) (1.26.4)\n",
      "Requirement already satisfied: python-dateutil>=2.8.2 in /home/xli27/.local/lib/python3.10/site-packages (from pandas) (2.9.0.post0)\n",
      "Requirement already satisfied: pytz>=2020.1 in /home/xli27/.local/lib/python3.10/site-packages (from pandas) (2024.1)\n",
      "Requirement already satisfied: tzdata>=2022.7 in /home/xli27/.local/lib/python3.10/site-packages (from pandas) (2024.1)\n",
      "Requirement already satisfied: six>=1.5 in /usr/lib/python3/dist-packages (from python-dateutil>=2.8.2->pandas) (1.16.0)\n"
     ]
    }
   ],
   "source": [
    "!pip install --user graphistry[bolt]\n",
    "!pip install --user pandas"
   ]
  },
  {
   "cell_type": "code",
   "execution_count": 2,
   "id": "09ea8140-55c8-4d99-b5b6-789ccff2bce3",
   "metadata": {},
   "outputs": [
    {
     "name": "stdout",
     "output_type": "stream",
     "text": [
      "neo4j 5.19.0\n",
      "graphistry 0.33.7\n"
     ]
    }
   ],
   "source": [
    "import pandas as pd\n",
    "import neo4j # just for testing\n",
    "from neo4j import GraphDatabase # for data loader\n",
    "import graphistry\n",
    "print('neo4j', neo4j.__version__)\n",
    "print('graphistry', graphistry.__version__)"
   ]
  },
  {
   "cell_type": "code",
   "execution_count": 8,
   "id": "344efecc-4075-46ad-b553-fbb91cafdd43",
   "metadata": {},
   "outputs": [],
   "source": [
    "NEO4J = {\n",
    "    'uri': \"bolt+s://recoil.ise.utk.edu:7687\", \n",
    "    'auth': (\"neo4j\", \"recoilneo4j\")\n",
    "}\n",
    "\n",
    "# graphistry.register(bolt=NEO4J)\n",
    "\n",
    "graphistry.register(bolt=NEO4J, api=3, username='recoil@utk.edu', password='graph4neo4j', protocol='https', server='hub.graphistry.com')\n",
    "\n",
    "# To specify Graphistry account & server, use:\n",
    "# graphistry.register(api=3, username='...', password='...', protocol='https', server='hub.graphistry.com')\n",
    "# For more options, see https://github.com/graphistry/pygraphistry#configure"
   ]
  },
  {
   "cell_type": "code",
   "execution_count": 9,
   "id": "c76eb684-03bb-4bcf-b652-49a81ecda9b9",
   "metadata": {},
   "outputs": [],
   "source": [
    "g = graphistry.cypher(\"\"\"\n",
    "MATCH p=()-[r:PRODUCED]->() RETURN p LIMIT 25\n",
    "\"\"\")"
   ]
  },
  {
   "cell_type": "code",
   "execution_count": 10,
   "id": "7a680b8a-8a11-434d-a1a5-8a5d5ef7b12b",
   "metadata": {
    "scrolled": true
   },
   "outputs": [
    {
     "data": {
      "text/html": [
       "\n",
       "            <iframe id=\"d9aa5813-3622-48af-9314-b4732d327318\" src=\"https://hub.graphistry.com/graph/graph.html?dataset=ba140b7330e04727a2defdf877cd96ca&type=arrow&viztoken=b5be9670-a455-4fc6-9ec7-ed22255c8125&usertag=316c1aaf-pygraphistry-0.33.7&splashAfter=1712460494&info=true\"\n",
       "                    allowfullscreen=\"true\" webkitallowfullscreen=\"true\" mozallowfullscreen=\"true\"\n",
       "                    oallowfullscreen=\"true\" msallowfullscreen=\"true\"\n",
       "                    style=\"width:100%; height:500px; border: 1px solid #DDD; overflow: hidden\"\n",
       "                    \n",
       "            >\n",
       "            </iframe>\n",
       "        \n",
       "            <script>\n",
       "                try {\n",
       "                  $(\"#d9aa5813-3622-48af-9314-b4732d327318\").bind('mousewheel', function(e) { e.preventDefault(); });\n",
       "                } catch (e) { console.error('exn catching scroll', e); }\n",
       "            </script>\n",
       "        "
      ],
      "text/plain": [
       "<IPython.core.display.HTML object>"
      ]
     },
     "execution_count": 10,
     "metadata": {},
     "output_type": "execute_result"
    }
   ],
   "source": [
    "g.plot()"
   ]
  },
  {
   "cell_type": "code",
   "execution_count": 13,
   "id": "02716a9f-1fea-482a-9d4a-8820ce545e5d",
   "metadata": {
    "scrolled": true
   },
   "outputs": [
    {
     "name": "stderr",
     "output_type": "stream",
     "text": [
      "Failed memoization speedup attempt due to Pandas internal hash function failing. Continuing without memoization speedups.This is fine, but for speedups around skipping re-uploads of previously seen tables, try identifying which columns have types that Pandas cannot hash, and convert them to hashable types like strings."
     ]
    },
    {
     "data": {
      "text/html": [
       "\n",
       "            <iframe id=\"71b79435-402b-43d5-9cbf-6e5043f7210f\" src=\"https://hub.graphistry.com/graph/graph.html?dataset=2d49853d130947548a6644a1c42513dd&type=arrow&viztoken=f177b10d-7fa7-4797-8d73-728773b54ef6&usertag=316c1aaf-pygraphistry-0.33.7&splashAfter=1712461214&info=true\"\n",
       "                    allowfullscreen=\"true\" webkitallowfullscreen=\"true\" mozallowfullscreen=\"true\"\n",
       "                    oallowfullscreen=\"true\" msallowfullscreen=\"true\"\n",
       "                    style=\"width:100%; height:500px; border: 1px solid #DDD; overflow: hidden\"\n",
       "                    \n",
       "            >\n",
       "            </iframe>\n",
       "        \n",
       "            <script>\n",
       "                try {\n",
       "                  $(\"#71b79435-402b-43d5-9cbf-6e5043f7210f\").bind('mousewheel', function(e) { e.preventDefault(); });\n",
       "                } catch (e) { console.error('exn catching scroll', e); }\n",
       "            </script>\n",
       "        "
      ],
      "text/plain": [
       "<IPython.core.display.HTML object>"
      ]
     },
     "execution_count": 13,
     "metadata": {},
     "output_type": "execute_result"
    }
   ],
   "source": [
    "graphistry.cypher(\"CALL db.schema.visualization()\").plot()"
   ]
  },
  {
   "cell_type": "code",
   "execution_count": 14,
   "id": "0f6a9140-aefc-451c-8a5a-8bb30744ac13",
   "metadata": {
    "scrolled": true
   },
   "outputs": [
    {
     "name": "stderr",
     "output_type": "stream",
     "text": [
      "Failed memoization speedup attempt due to Pandas internal hash function failing. Continuing without memoization speedups.This is fine, but for speedups around skipping re-uploads of previously seen tables, try identifying which columns have types that Pandas cannot hash, and convert them to hashable types like strings."
     ]
    },
    {
     "data": {
      "text/html": [
       "\n",
       "            <iframe id=\"0343b640-84a5-4d9b-a850-fc7a02fbca38\" src=\"https://hub.graphistry.com/graph/graph.html?dataset=3e00a7e177e04abf8e9baba6a18a4a9f&type=arrow&viztoken=3d2638b5-4589-4703-9639-1515e038ba81&usertag=316c1aaf-pygraphistry-0.33.7&splashAfter=1712461383&info=true\"\n",
       "                    allowfullscreen=\"true\" webkitallowfullscreen=\"true\" mozallowfullscreen=\"true\"\n",
       "                    oallowfullscreen=\"true\" msallowfullscreen=\"true\"\n",
       "                    style=\"width:100%; height:500px; border: 1px solid #DDD; overflow: hidden\"\n",
       "                    \n",
       "            >\n",
       "            </iframe>\n",
       "        \n",
       "            <script>\n",
       "                try {\n",
       "                  $(\"#0343b640-84a5-4d9b-a850-fc7a02fbca38\").bind('mousewheel', function(e) { e.preventDefault(); });\n",
       "                } catch (e) { console.error('exn catching scroll', e); }\n",
       "            </script>\n",
       "        "
      ],
      "text/plain": [
       "<IPython.core.display.HTML object>"
      ]
     },
     "execution_count": 14,
     "metadata": {},
     "output_type": "execute_result"
    }
   ],
   "source": [
    "script = \"\"\"\n",
    "MATCH p=()-[r:ACTED_IN]->() RETURN p LIMIT 25\n",
    "\"\"\"\n",
    "graphistry.cypher(script).plot()"
   ]
  },
  {
   "cell_type": "code",
   "execution_count": null,
   "id": "22fe3085-f113-479c-83f3-8419b74c9385",
   "metadata": {},
   "outputs": [],
   "source": []
  }
 ],
 "metadata": {
  "kernelspec": {
   "display_name": ".envgpu",
   "language": "python",
   "name": ".envgpu"
  },
  "language_info": {
   "codemirror_mode": {
    "name": "ipython",
    "version": 3
   },
   "file_extension": ".py",
   "mimetype": "text/x-python",
   "name": "python",
   "nbconvert_exporter": "python",
   "pygments_lexer": "ipython3",
   "version": "3.10.12"
  }
 },
 "nbformat": 4,
 "nbformat_minor": 5
}
