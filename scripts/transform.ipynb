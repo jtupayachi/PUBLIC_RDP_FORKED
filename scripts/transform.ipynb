{
 "cells": [
  {
   "cell_type": "markdown",
   "id": "9b315e0b-668b-474a-812a-9063f7e24046",
   "metadata": {},
   "source": [
    "```\n",
    "About us ...\n",
    "\n",
    "```"
   ]
  },
  {
   "cell_type": "code",
   "execution_count": 1,
   "id": "ea71f9d4",
   "metadata": {},
   "outputs": [
    {
     "name": "stdout",
     "output_type": "stream",
     "text": [
      "/home/recoil/shared_space/RECOIL_Data_Collection/scripts\n"
     ]
    }
   ],
   "source": [
    "!pwd"
   ]
  },
  {
   "cell_type": "markdown",
   "id": "4cdf25fd-4073-4da3-a649-a93007a95062",
   "metadata": {},
   "source": [
    "# Importa libs"
   ]
  },
  {
   "cell_type": "code",
   "execution_count": 2,
   "id": "2ad54c99-c8d9-47da-b907-bcf723ad7171",
   "metadata": {},
   "outputs": [],
   "source": [
    "import geopandas as gpd\n",
    "import os\n",
    "\n",
    "os.chdir('/home/jose/shared_space/recoil_data/raw_data')"
   ]
  },
  {
   "cell_type": "code",
   "execution_count": 3,
   "id": "7fe3e5b7-4b77-4841-bc15-18fa2ebcf481",
   "metadata": {},
   "outputs": [
    {
     "name": "stdout",
     "output_type": "stream",
     "text": [
      "/home/recoil/shared_space/recoil_data/raw_data\n"
     ]
    }
   ],
   "source": [
    "!pwd"
   ]
  },
  {
   "cell_type": "code",
   "execution_count": 4,
   "id": "71c52a38",
   "metadata": {},
   "outputs": [],
   "source": [
    "\n",
    "# Input shapefile\n",
    "input_file = \"RailNetwork_ExportFeatures.shp\"\n",
    "# Output GeoJSON file\n",
    "output_file = \"RailNetwork_ExportFeatures.geojson\"\n",
    "# Read the shapefile using GeoPandas\n",
    "gdf = gpd.read_file(input_file)\n",
    "# Save GeoJSON\n",
    "gdf.to_file(output_file, driver=\"GeoJSON\")"
   ]
  },
  {
   "cell_type": "code",
   "execution_count": 7,
   "id": "f860212e",
   "metadata": {},
   "outputs": [],
   "source": [
    "\n",
    "# Input shapefile\n",
    "input_file = \"RoadNetwork_ExportFeatures.shp\"\n",
    "# Output GeoJSON file\n",
    "output_file = \"RoadNetwork_ExportFeatures.geojson\"\n",
    "# Read the shapefile using GeoPandas\n",
    "gdf = gpd.read_file(input_file)\n",
    "# Save GeoJSON\n",
    "gdf.to_file(output_file, driver=\"GeoJSON\")\n"
   ]
  },
  {
   "cell_type": "code",
   "execution_count": 8,
   "id": "03f5be05-637f-4a78-8ef5-8bd00d61f969",
   "metadata": {},
   "outputs": [],
   "source": [
    "# Input shapefile\n",
    "input_file = \"WaterNetwork_ExportFeatures.shp\"\n",
    "# Output GeoJSON file\n",
    "output_file = \"WaterNetwork_ExportFeatures.geojson\"\n",
    "# Read the shapefile using GeoPandas\n",
    "gdf = gpd.read_file(input_file)\n",
    "# Save GeoJSON\n",
    "gdf.to_file(output_file, driver=\"GeoJSON\")"
   ]
  },
  {
   "cell_type": "markdown",
   "id": "2c6e2875-b2cc-439e-bbf8-0eb0a0c7190e",
   "metadata": {},
   "source": [
    "## Output files"
   ]
  },
  {
   "cell_type": "code",
   "execution_count": 9,
   "id": "7a704e89",
   "metadata": {},
   "outputs": [
    {
     "name": "stdout",
     "output_type": "stream",
     "text": [
      "                          Name      Link_Type  Dir_Flag  Volume  Capacity  \\\n",
      "0  CANTON ISLAND PHOENIX GROUP  3: Low Volume         0     0.0       0.0   \n",
      "1    ATL DEEP WTR SPINE ACCESS  3: Low Volume         0     0.0       0.0   \n",
      "2    ATLANTIC DEEP WATER SPINE  3: Low Volume         0     0.0       0.0   \n",
      "3    ATLANTIC DEEP WATER SPINE  3: Low Volume         0     0.0       0.0   \n",
      "4    ATLANTIC DEEP WATER SPINE  3: Low Volume         0     0.0       0.0   \n",
      "\n",
      "   VCR  Artificial Mode_Type  ORIG_FID  ORIG_SEQ    Shape_Leng       Length  \\\n",
      "0  0.0           0     water         1         1  3.747257e+06  2328.432764   \n",
      "1  0.0           0     water         2         1  4.892818e+04    30.402503   \n",
      "2  0.0           0     water         3         1  4.610476e+03     2.864811   \n",
      "3  0.0           0     water         4         1  4.949494e+03     3.075467   \n",
      "4  0.0           0     water         5         1  4.053013e+03     2.518420   \n",
      "\n",
      "                                            geometry  \n",
      "0  LINESTRING (-6180630.424 202934.188, -9827204....  \n",
      "1  LINESTRING (2263236.542 1005748.710, 2309331.5...  \n",
      "2  LINESTRING (2304269.369 975958.679, 2301981.66...  \n",
      "3  LINESTRING (2307217.803 979934.133, 2304269.36...  \n",
      "4  LINESTRING (2309509.586 983276.982, 2307217.80...  \n"
     ]
    }
   ],
   "source": [
    "\n",
    "output_file = \"WaterNetwork_ExportFeatures.geojson\"\n",
    "\n",
    "\n",
    "gdf = gpd.read_file(output_file)\n",
    "\n",
    "# Display GeoDataFrame information\n",
    "print(gdf.head())  # Display the first few rows\n",
    "#print(gdf.columns)  # Display column names\n",
    "#print(gdf.crs)  # Display coordinate reference system"
   ]
  },
  {
   "cell_type": "code",
   "execution_count": 10,
   "id": "6981f01c-b8e8-4de9-9c8b-a7ea1d42346d",
   "metadata": {},
   "outputs": [
    {
     "name": "stdout",
     "output_type": "stream",
     "text": [
      "Link_Type\n",
      "4: No Volume        2976\n",
      "1: High Volume      1058\n",
      "3: Low Volume        921\n",
      "2: Medium Volume     717\n",
      "Name: count, dtype: int64\n"
     ]
    }
   ],
   "source": [
    "print(gdf.Link_Type.value_counts())"
   ]
  },
  {
   "cell_type": "code",
   "execution_count": 11,
   "id": "f8be5abc-9c3a-4924-afb9-f65df2a7cb96",
   "metadata": {},
   "outputs": [
    {
     "name": "stdout",
     "output_type": "stream",
     "text": [
      "(6175, 13)\n"
     ]
    }
   ],
   "source": [
    "print(gdf.shape)"
   ]
  },
  {
   "cell_type": "code",
   "execution_count": 12,
   "id": "a1f7804e-65d6-4685-b654-01d0992517e6",
   "metadata": {},
   "outputs": [
    {
     "name": "stdout",
     "output_type": "stream",
     "text": [
      "2194\n"
     ]
    }
   ],
   "source": [
    "print(len(gdf.Name.unique()))"
   ]
  },
  {
   "cell_type": "code",
   "execution_count": 13,
   "id": "81621dc8",
   "metadata": {},
   "outputs": [
    {
     "name": "stdout",
     "output_type": "stream",
     "text": [
      "Different mode types:\n",
      "water\n"
     ]
    }
   ],
   "source": [
    "# List unique mode types\n",
    "mode_types = gdf['Mode_Type'].unique()\n",
    "\n",
    "# Print the unique mode types\n",
    "print(\"Different mode types:\")\n",
    "for mode_type in mode_types:\n",
    "    print(mode_type)\n",
    "    "
   ]
  },
  {
   "cell_type": "code",
   "execution_count": 14,
   "id": "68540ae4",
   "metadata": {},
   "outputs": [
    {
     "name": "stdout",
     "output_type": "stream",
     "text": [
      "Index(['Name', 'Link_Type', 'Dir_Flag', 'Volume', 'Capacity', 'VCR',\n",
      "       'Artificial', 'Mode_Type', 'ORIG_FID', 'ORIG_SEQ', 'Shape_Leng',\n",
      "       'Length', 'geometry'],\n",
      "      dtype='object')\n"
     ]
    }
   ],
   "source": [
    "print(gdf.columns)"
   ]
  },
  {
   "cell_type": "code",
   "execution_count": 15,
   "id": "bbaf229d",
   "metadata": {},
   "outputs": [
    {
     "name": "stdout",
     "output_type": "stream",
     "text": [
      "PROJCS[\"USA_Contiguous_Lambert_Conformal_Conic\",GEOGCS[\"NAD83\",DATUM[\"North_American_Datum_1983\",SPHEROID[\"GRS 1980\",6378137,298.257222101,AUTHORITY[\"EPSG\",\"7019\"]],AUTHORITY[\"EPSG\",\"6269\"]],PRIMEM[\"Greenwich\",0,AUTHORITY[\"EPSG\",\"8901\"]],UNIT[\"degree\",0.0174532925199433,AUTHORITY[\"EPSG\",\"9122\"]],AUTHORITY[\"EPSG\",\"4269\"]],PROJECTION[\"Lambert_Conformal_Conic_2SP\"],PARAMETER[\"latitude_of_origin\",39],PARAMETER[\"central_meridian\",-96],PARAMETER[\"standard_parallel_1\",33],PARAMETER[\"standard_parallel_2\",45],PARAMETER[\"false_easting\",0],PARAMETER[\"false_northing\",0],UNIT[\"metre\",1,AUTHORITY[\"EPSG\",\"9001\"]],AXIS[\"Easting\",EAST],AXIS[\"Northing\",NORTH],AUTHORITY[\"ESRI\",\"102004\"]]\n"
     ]
    }
   ],
   "source": [
    "print(gdf.crs)\n"
   ]
  },
  {
   "cell_type": "code",
   "execution_count": null,
   "id": "0867e2ad",
   "metadata": {},
   "outputs": [],
   "source": []
  },
  {
   "cell_type": "code",
   "execution_count": null,
   "id": "7773e2da-1037-4985-a27d-3989c3810edf",
   "metadata": {},
   "outputs": [],
   "source": []
  },
  {
   "cell_type": "code",
   "execution_count": null,
   "id": "10651791-c0ab-4882-88c3-286615caa433",
   "metadata": {},
   "outputs": [],
   "source": []
  },
  {
   "cell_type": "code",
   "execution_count": null,
   "id": "524799a1-f38c-4f89-be5b-3879b3c343db",
   "metadata": {},
   "outputs": [],
   "source": []
  },
  {
   "cell_type": "code",
   "execution_count": null,
   "id": "f5246a95-671f-46f5-a2c8-41d2166377d0",
   "metadata": {},
   "outputs": [],
   "source": []
  },
  {
   "cell_type": "code",
   "execution_count": null,
   "id": "8e2e0fdd-dc0e-4a3e-9653-7cb18e803a76",
   "metadata": {},
   "outputs": [],
   "source": [
    "import geopandas as gpd\n",
    "\n",
    "# Input shapefile\n",
    "input_file = \"RailNetwork_ExportFeatures.shp\"\n",
    "# Output GeoJSON file\n",
    "geojson_file = \"RailNetwork_ExportFeatures.geojson\"\n",
    "# Output OSM PBF file\n",
    "pbf_file = \"RailNetwork_ExportFeatures.osm.pbf\"\n",
    "\n",
    "# Read the shapefile using GeoPandas\n",
    "gdf = gpd.read_file(input_file)\n",
    "# Save GeoJSON\n",
    "gdf.to_file(geojson_file, driver=\"GeoJSON\")\n",
    "\n",
    "# Use osmium-tool to convert the GeoJSON to OSM PBF\n",
    "import os\n",
    "os.system(f\"osmium convert {geojson_file} -o {pbf_file}\")\n"
   ]
  }
 ],
 "metadata": {
  "kernelspec": {
   "display_name": "Python 3 (ipykernel)",
   "language": "python",
   "name": "python3"
  },
  "language_info": {
   "codemirror_mode": {
    "name": "ipython",
    "version": 3
   },
   "file_extension": ".py",
   "mimetype": "text/x-python",
   "name": "python",
   "nbconvert_exporter": "python",
   "pygments_lexer": "ipython3",
   "version": "3.10.12"
  }
 },
 "nbformat": 4,
 "nbformat_minor": 5
}
